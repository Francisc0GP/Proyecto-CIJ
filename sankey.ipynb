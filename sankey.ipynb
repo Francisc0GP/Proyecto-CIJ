{
 "cells": [
  {
   "cell_type": "code",
   "execution_count": 162,
   "metadata": {},
   "outputs": [],
   "source": [
    "import pandas as pd\n",
    "import warnings\n",
    "import re"
   ]
  },
  {
   "cell_type": "code",
   "execution_count": 163,
   "metadata": {},
   "outputs": [],
   "source": [
    "def read_data ():\n",
    "    data = pd.read_csv('results\\EntrevistaInicial.csv')\n",
    "    return data"
   ]
  },
  {
   "cell_type": "code",
   "execution_count": 164,
   "metadata": {},
   "outputs": [],
   "source": [
    "def dicts ():\n",
    "    dict_sust = {'Tabaco':(1,2) , 'Alcohol':(3,4,5,84), 'Marihuana':(6,7,8,9,10,11),'Inalables':(24,25,26,27,28) , 'Cocaina':(12,13,14,15,86) , 'Metanfetaminas': (16,17,18,19,85) , 'OtrosEstimulantes':(19,20,21,22,23), 'Extasis':(22,50,51,48), 'Benzodiacepinas': (52,53) , 'OtrosDepresores': (54,55,56), 'Alucinogenos': (29,30,31,32,33,34,35,36,37,38,39,40,41,42,43,44,45,46,47), 'Heroina': (60,61), 'OpiodesSinteticos': (62,63,64,65,66,67), 'OpioDerivados': (57,58,59), 'UtilidadMedica': (68,69,70,71,72,73,74,75), 'SustanciasDeAbuso': (76,77,78,79,80,81,82), 'Otros': (83,10000)}\n",
    "    return dict_sust"
   ]
  },
  {
   "cell_type": "code",
   "execution_count": 165,
   "metadata": {},
   "outputs": [],
   "source": [
    "def mod_sustancias (df, dict_sust):\n",
    "    for col in df.columns:\n",
    "        if col.startswith('SustanciaI'):\n",
    "            for ind, val in  df [col].items():\n",
    "                for key, value in dict_sust.items():\n",
    "                    if val in value:\n",
    "                        df.at[ind, col] = key\n",
    "    return df\n"
   ]
  },
  {
   "cell_type": "code",
   "execution_count": 166,
   "metadata": {},
   "outputs": [],
   "source": [
    "def dropcolumns (df):\n",
    "    listg = []\n",
    "    for col in df.columns:\n",
    "        if col.startswith('SustanciaI') or col.startswith('FolioI') or col.startswith('OrdenConsumo'):\n",
    "            listg.append(col)\n",
    "        else:\n",
    "            df = df.drop(columns = col)\n",
    "    return df"
   ]
  },
  {
   "cell_type": "code",
   "execution_count": 167,
   "metadata": {},
   "outputs": [],
   "source": [
    "def searchind(df, col):\n",
    "    if col.startswith('SustanciaI'):\n",
    "        exp = re.search(r'(SustanciaId)(\\d)', col)\n",
    "        if exp:\n",
    "            return exp.group(2)\n",
    "        else:\n",
    "            return None"
   ]
  },
  {
   "cell_type": "code",
   "execution_count": 168,
   "metadata": {},
   "outputs": [],
   "source": [
    "def sustancias1 (df, sust):\n",
    "    list_folio = []\n",
    "    for col in df.columns:\n",
    "        for ind, val in df[col].items():\n",
    "            if val == sust:\n",
    "                exp = searchind(df, col)\n",
    "                if df['OrdenConsumo'+str(exp)][ind] == 1:\n",
    "                    list_folio.append(df.at[ind, 'FolioId'])\n",
    "    return list_folio\n"
   ]
  },
  {
   "cell_type": "code",
   "execution_count": 169,
   "metadata": {},
   "outputs": [],
   "source": [
    "def sustancias2 (df,sust):\n",
    "    list_folio = []\n",
    "    for col in df.columns:\n",
    "        for ind, val in df[col].items():\n",
    "            if val == sust:\n",
    "                exp = searchind(df, col)\n",
    "                if df['OrdenConsumo'+str(exp)][ind] == 2:\n",
    "                    list_folio.append(df.at[ind, 'FolioId'])\n",
    "    return list_folio   \n"
   ]
  },
  {
   "cell_type": "code",
   "execution_count": 170,
   "metadata": {},
   "outputs": [],
   "source": [
    "def sustancias3 (df,sust):\n",
    "    list_folio = []\n",
    "    for col in df.columns:\n",
    "        for ind, val in df[col].items():\n",
    "            if val == sust:\n",
    "                exp = searchind(df, col)\n",
    "                if df['OrdenConsumo'+str(exp)][ind] == 3:\n",
    "                    list_folio.append(df.at[ind, 'FolioId'])\n",
    "    return list_folio  "
   ]
  },
  {
   "cell_type": "code",
   "execution_count": 171,
   "metadata": {},
   "outputs": [],
   "source": [
    "def snkgr(df, list_sust, sust):\n",
    "    dict_sust = {}\n",
    "    #for key, val in list_sust.items():\n",
    "    list = sustancias1(df, sust)\n",
    "    df1 = df[df['FolioId'].isin(list)]\n",
    "    for key, val in list_sust.items():\n",
    "        list = sustancias2(df1, key)\n",
    "        df2 = df1[df1['FolioId'].isin(list)]\n",
    "        dict_sust[key] = (df2)\n",
    "    return dict_sust"
   ]
  },
  {
   "cell_type": "code",
   "execution_count": 172,
   "metadata": {},
   "outputs": [],
   "source": [
    "def dropcol(df):\n",
    "    df['SustanciaId0'] = df['SustanciaId']\n",
    "    df['OrdenConsumo0'] = df['OrdenConsumo']\n",
    "    df.drop(columns = 'SustanciaId', inplace = True)\n",
    "    df.drop(columns = 'OrdenConsumo', inplace = True)\n",
    "    return df"
   ]
  },
  {
   "cell_type": "code",
   "execution_count": 173,
   "metadata": {},
   "outputs": [],
   "source": [
    "def gen_dataset (list_sust):\n",
    "    count = 0\n",
    "    dict_aux = {0:'Tabaco', 1: 'Alcohol', 2: 'Marihuana', 3: 'Inalables', 4: 'Cocaina', 5: 'Metanfetaminas', 6: 'OtrosEstimulantes', 7: 'Extasis', 8: 'Benzodiacepinas', 9: 'OtrosDepresores', 10: 'Alucinogenos', 11: 'Heroina', 12: 'OpiodesSinteticos', 13: 'OpioDerivados', 14: 'UtilidadMedica', 15: 'SustanciasDeAbuso', 16: 'Otros'} \n",
    "    df_sankey1_2 = pd.DataFrame(columns = ['From', 'To', 'Value'])\n",
    "    for i in range (0,16):\n",
    "        for key, val in list_sust[i].items():\n",
    "            aux = dict_aux[i]\n",
    "            df_sankey1_2.loc[count] = [aux+str(1), key+str(2), len(val)]\n",
    "            count += 1\n",
    "    return df_sankey1_2"
   ]
  },
  {
   "cell_type": "code",
   "execution_count": 174,
   "metadata": {},
   "outputs": [],
   "source": [
    "def main():\n",
    "    list_sust = []\n",
    "    df = read_data()\n",
    "    df = dropcol(df)\n",
    "    df = mod_sustancias(df, dicts())\n",
    "    df = dropcolumns(df)\n",
    "    sust = dicts()\n",
    "    for key, val in sust.items():\n",
    "        list_sust.append(snkgr(df, dicts(), key))\n",
    "    df_sankey1_2 = gen_dataset(list_sust)\n",
    "    return df_sankey1_2, list_sust        "
   ]
  },
  {
   "cell_type": "code",
   "execution_count": 175,
   "metadata": {},
   "outputs": [],
   "source": [
    "warnings.filterwarnings(\"ignore\")\n",
    "df_sankey1_2, list_sust = main()"
   ]
  },
  {
   "cell_type": "code",
   "execution_count": 176,
   "metadata": {},
   "outputs": [],
   "source": [
    "def snkgr3(df, list_sust, sust):\n",
    "    dict_sust = {}\n",
    "    list3 = []\n",
    "    for droga in list_sust:\n",
    "        list = sustancias3(df, droga)\n",
    "        df2 = df[df['FolioId'].isin(list)]\n",
    "        dict_sust[droga] = (df2)\n",
    "        list3.append(dict_sust)\n",
    "    return list3"
   ]
  },
  {
   "cell_type": "code",
   "execution_count": 177,
   "metadata": {},
   "outputs": [],
   "source": [
    "listnvl3 = []\n",
    "for i in range(0,16):\n",
    "    for key, val in list_sust[i].items():\n",
    "        listnvl3.append(snkgr3(list_sust[i][key], dicts(), key))\n"
   ]
  },
  {
   "cell_type": "code",
   "execution_count": 178,
   "metadata": {},
   "outputs": [],
   "source": [
    "def gen_dataset2 (listnvl3):\n",
    "    count = 0\n",
    "    dict_aux = {0:'Tabaco', 1: 'Alcohol', 2: 'Marihuana', 3: 'Inalables', 4: 'Cocaina', 5: 'Metanfetaminas', 6: 'OtrosEstimulantes', 7: 'Extasis', 8: 'Benzodiacepinas', 9: 'OtrosDepresores', 10: 'Alucinogenos', 11: 'Heroina', 12: 'OpiodesSinteticos', 13: 'OpioDerivados', 14: 'UtilidadMedica', 15: 'SustanciasDeAbuso', 16: 'Otros'} \n",
    "    df_sankey2_3 = pd.DataFrame(columns = ['From', 'To', 'Value'])\n",
    "    for i in range (0,16):\n",
    "        for j in range(0,16):\n",
    "            for key, val in listnvl3[i][j].items():\n",
    "                aux = dict_aux[i]\n",
    "                df_sankey2_3.loc[count] = [aux+str(2), key+str(3), len(val)]\n",
    "                count += 1\n",
    "    return df_sankey2_3"
   ]
  },
  {
   "cell_type": "code",
   "execution_count": 179,
   "metadata": {},
   "outputs": [],
   "source": [
    "def moddf (df):\n",
    "    dfnew = pd.concat([df.iloc[0:17], df.iloc[272:289], df.iloc[544:561], df.iloc[816:833], df.iloc[1088:1105], df.iloc[1360:1377], df.iloc[1632:1649], df.iloc[1904:1921], df.iloc[2176:2193], df.iloc[2448:2465], df.iloc[2720:2737], df.iloc[2992:3009], df.iloc[3264:3281], df.iloc[3536:3553], df.iloc[3808:3825], df.iloc[4080:4097]])\n",
    "    return dfnew"
   ]
  },
  {
   "cell_type": "code",
   "execution_count": 180,
   "metadata": {},
   "outputs": [],
   "source": [
    "df_sankey2_3 = gen_dataset2(listnvl3)\n",
    "df_sankey2_3 = moddf(df_sankey2_3)\n",
    "df_sankey = pd.concat([df_sankey1_2, df_sankey2_3])\n"
   ]
  },
  {
   "cell_type": "code",
   "execution_count": 181,
   "metadata": {},
   "outputs": [],
   "source": [
    "df_sankey.to_csv('results\\Sankey.csv', index = False)"
   ]
  },
  {
   "cell_type": "code",
   "execution_count": null,
   "metadata": {},
   "outputs": [],
   "source": []
  }
 ],
 "metadata": {
  "kernelspec": {
   "display_name": ".venv",
   "language": "python",
   "name": "python3"
  },
  "language_info": {
   "codemirror_mode": {
    "name": "ipython",
    "version": 3
   },
   "file_extension": ".py",
   "mimetype": "text/x-python",
   "name": "python",
   "nbconvert_exporter": "python",
   "pygments_lexer": "ipython3",
   "version": "3.11.0"
  }
 },
 "nbformat": 4,
 "nbformat_minor": 2
}
