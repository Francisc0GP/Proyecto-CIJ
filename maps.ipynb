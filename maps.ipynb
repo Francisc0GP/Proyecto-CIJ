{
 "cells": [
  {
   "cell_type": "code",
   "execution_count": 163,
   "metadata": {},
   "outputs": [],
   "source": [
    "import pandas as pd\n",
    "import warnings \n",
    "import re"
   ]
  },
  {
   "cell_type": "code",
   "execution_count": 164,
   "metadata": {},
   "outputs": [],
   "source": [
    "def read_data():\n",
    "    \"\"\"\n",
    "    Description:\n",
    "    Read the data from the files and return the dataframes\n",
    "    return: df, dfcc, dfc (dataframes) \n",
    "    \"\"\"\n",
    "    df = pd.read_csv('results/EntrevistaInicial.csv')\n",
    "    dfcc = pd.read_csv('dataset/CentrosDeCostoEstado.csv')\n",
    "    dfc = pd.read_csv('dataset/CentrosDeCosto.csv')\n",
    "    return df, dfcc, dfc"
   ]
  },
  {
   "cell_type": "code",
   "execution_count": 165,
   "metadata": {},
   "outputs": [],
   "source": [
    "def get_dict ():\n",
    "    \"\"\"\n",
    "    Description: Return a dictionary with the states\n",
    "    return: dict_Estados (dictionary)\n",
    "    \"\"\"\n",
    "\n",
    "    dict_Mes ={1: 'Enero', 2: 'Febrero', 3: 'Marzo', 4: 'Abril', 5: 'Mayo', 6: 'Junio', 7: 'Julio', 8: 'Agosto', 9: 'Septiembre', 10: 'Octubre', 11: 'Noviembre', 12: 'Diciembre'}\n",
    "    return dict_Mes"
   ]
  },
  {
   "cell_type": "code",
   "execution_count": 166,
   "metadata": {},
   "outputs": [],
   "source": [
    "def transform_data(df):\n",
    "    \"\"\"\n",
    "    Description: Transform the data from the dataframe\n",
    "    return: df (dataframe)\n",
    "    \"\"\"\n",
    "    \n",
    "    dict_Mes = get_dict()\n",
    "    df['MesRegistro'] = df['MesRegistro'].map(dict_Mes)\n",
    "    return df"
   ]
  },
  {
   "cell_type": "code",
   "execution_count": 167,
   "metadata": {},
   "outputs": [],
   "source": [
    "def split_date(df):\n",
    "    \"\"\"\n",
    "    Description: Split the date in year, month and day\n",
    "    return: df (dataframe)\n",
    "    \"\"\"\n",
    "    \n",
    "    df['FechaRegistro'] = pd.to_datetime(df['FechaRegistro'])\n",
    "    df['AñoRegistro'] = df['FechaRegistro'].dt.year\n",
    "    df['MesRegistro'] = df['FechaRegistro'].dt.month\n",
    "    df['DiaRegistro'] = df['FechaRegistro'].dt.day\n",
    "    df = transform_data(df)\n",
    "    return df"
   ]
  },
  {
   "cell_type": "code",
   "execution_count": 168,
   "metadata": {},
   "outputs": [],
   "source": [
    "def sem(df , lis_1sem, lis_2sem):\n",
    "    \"\"\"\n",
    "    Description: Create a column with the semester\n",
    "    return: df (dataframe)\n",
    "    \"\"\"\n",
    "    \n",
    "    df['Semestre'] = 0\n",
    "    for ind, val in df['MesRegistro'].items():\n",
    "        if val in lis_1sem:\n",
    "            df.loc[ind, 'Semestre'] = 1\n",
    "        elif val in lis_2sem:\n",
    "            df.loc[ind, 'Semestre'] = 2\n",
    "    return df"
   ]
  },
  {
   "cell_type": "code",
   "execution_count": 169,
   "metadata": {},
   "outputs": [],
   "source": [
    "def mod_cc(df, dictc, dictcc):\n",
    "    \"\"\"\n",
    "    Description: Modify the column CentroCostoId\n",
    "    return: df (dataframe)\n",
    "    \"\"\"\n",
    "    \n",
    "    df['CentroCostoId'] = df['CentroCostoId'].map(dictc)\n",
    "    df['CentroCostoId'] = df['CentroCostoId'].map(dictcc)\n",
    "    return df"
   ]
  },
  {
   "cell_type": "code",
   "execution_count": 170,
   "metadata": {},
   "outputs": [],
   "source": [
    "def get_cc (df, dfcc, dfc):\n",
    "    \"\"\"\n",
    "    Description: Get the dataframes and return the dataframe with the modified column CentroCostoId\n",
    "    return: df (dataframe)\n",
    "    \"\"\"\n",
    "    \n",
    "    dictcc = dict(zip(dfcc['CENTRO'], dfcc['ADSCRIPCIÓN']))\n",
    "    dictc = dict(zip(dfc['CentroCostoId'], dfc['CentroCostoClave']))\n",
    "    df = mod_cc(df, dictc, dictcc)\n",
    "    return df"
   ]
  },
  {
   "cell_type": "code",
   "execution_count": 171,
   "metadata": {},
   "outputs": [],
   "source": [
    "def group_sust():\n",
    "    \"\"\"\n",
    "    Description: Create a dictionary with the substances\n",
    "    return: dict_sust_inverso (dictionary)\n",
    "    \"\"\"\n",
    "    \n",
    "    dict_sust = {'Tabaco':(1,2) , 'Alcohol':(3,4,5,84), 'Marihuana':(6,7,8,9,10,11,),'Inalables':(24,25,26,27,28) , 'Cocaina':(12,13,14,15,86) , 'Metanfetaminas': (16,17,18,19,85) , 'OtrosEstimulantes':(19,20,21,22,23), 'Extasis':(22,50,51,48), 'Benzodiacepinas': (52,53) , 'OtrosDepresores': (54,55,56), 'Alucinogenos': (29,30,31,32,33,34,35,36,37,38,39,40,41,42,43,44,45,46,47), 'Heroina': (60,61), 'OpiodesSinteticos': (62,63,64,65,66,67), 'OpioDerivados': (57,58,59), 'UtilidadMedica': (68,69,70,71,72,73,74,75), 'SustanciasDeAbuso': (76,77,78,79,80,81,82), 'Otros': (83,10000)}\n",
    "    dict_sust_inverso = {}\n",
    "    for sustancia, numeros in dict_sust.items():\n",
    "        for numero in numeros:\n",
    "            dict_sust_inverso[numero] = sustancia\n",
    "    return dict_sust_inverso"
   ]
  },
  {
   "cell_type": "code",
   "execution_count": 172,
   "metadata": {},
   "outputs": [],
   "source": [
    "def mod_sust (df):\n",
    "    \"\"\"\n",
    "    Description: Modify the columns MayorImpactoSustanciaId\n",
    "    return: df (dataframe)\n",
    "    \"\"\"\n",
    "    \n",
    "    dict_sust = group_sust()\n",
    "    for col in df.columns:\n",
    "        if col.startswith('MayorImpactoSustanciaId'):\n",
    "            df[col] = df[col].map(dict_sust)\n",
    "    for col in df.columns:\n",
    "        if col.startswith('SustanciaI'):\n",
    "            df[col] = df[col].map(dict_sust)\n",
    "    return df"
   ]
  },
  {
   "cell_type": "code",
   "execution_count": 173,
   "metadata": {},
   "outputs": [],
   "source": [
    "def mod_data(df, dfcc, dfc):\n",
    "    \"\"\"\n",
    "    Description: Modify the data from the dataframe\n",
    "    return: df (dataframe)\n",
    "    \"\"\"\n",
    "    \n",
    "    df = split_date(df)\n",
    "    lista_1sem = ['Enero', 'Febrero', 'Marzo', 'Abril', 'Mayo', 'Junio']\n",
    "    lista_2sem = ['Julio', 'Agosto', 'Septiembre', 'Octubre', 'Noviembre', 'Diciembre']\n",
    "    df = sem(df, lista_1sem, lista_2sem)\n",
    "    df = get_cc(df, dfcc, dfc)\n",
    "    df = mod_sust(df)\n",
    "    return df"
   ]
  },
  {
   "cell_type": "code",
   "execution_count": 174,
   "metadata": {},
   "outputs": [],
   "source": [
    "warnings.filterwarnings(\"ignore\")\n",
    "df, dfcc , dfc = read_data()\n",
    "df = mod_data(df, dfcc, dfc)"
   ]
  },
  {
   "cell_type": "code",
   "execution_count": 175,
   "metadata": {},
   "outputs": [],
   "source": [
    "def get_total_cons (group, semestre, año):\n",
    "    \"\"\"\n",
    "    Description: Get the total of consultations\n",
    "    return: total (int)\n",
    "    \"\"\"\n",
    "    \n",
    "    list_total = [0,0,0,0,0,0,0,0,0,0,0,0,0,0,0,0,0]\n",
    "    group = group[(group['Semestre'] == semestre) & (group['AñoRegistro'] == año)]\n",
    "    sustancia_a_indice = {\n",
    "        'Tabaco': 0, 'Alcohol': 1, 'Marihuana': 2, 'Inalables': 3, 'Cocaina': 4,\n",
    "        'Metanfetaminas': 5, 'OtrosEstimulantes': 6, 'Extasis': 7, 'Benzodiacepinas': 8,\n",
    "        'OtrosDepresores': 9, 'Alucinogenos': 10, 'Heroina': 11, 'OpiodesSinteticos': 12,\n",
    "        'OpioDerivados': 13, 'UtilidadMedica': 14, 'SustanciasDeAbuso': 15, 'Otros': 16\n",
    "    }\n",
    "    for ind, val in group['MayorImpactoSustanciaId'].items():\n",
    "        if val in sustancia_a_indice:\n",
    "            list_total[sustancia_a_indice[val]] += 1    \n",
    "    return list_total"
   ]
  },
  {
   "cell_type": "code",
   "execution_count": 176,
   "metadata": {},
   "outputs": [],
   "source": [
    "def get_total_cons_cc (group):\n",
    "    \"\"\"\n",
    "    Description: Get the total of consultations by center\n",
    "    return: list_total_cc (list)\n",
    "    \"\"\"\n",
    "    \n",
    "    list_total_cc = [0,0,0,0,0,0,0,0,0,0,0,0,0,0,0,0,0]\n",
    "    sustancia_a_indice = {\n",
    "        'Tabaco': 0, 'Alcohol': 1, 'Marihuana': 2, 'Inalables': 3, 'Cocaina': 4,\n",
    "        'Metanfetaminas': 5, 'OtrosEstimulantes': 6, 'Extasis': 7, 'Benzodiacepinas': 8,\n",
    "        'OtrosDepresores': 9, 'Alucinogenos': 10, 'Heroina': 11, 'OpiodesSinteticos': 12,\n",
    "        'OpioDerivados': 13, 'UtilidadMedica': 14, 'SustanciasDeAbuso': 15, 'Otros': 16\n",
    "    }\n",
    "    for ind, val in group['MayorImpactoSustanciaId'].items():\n",
    "        if val in sustancia_a_indice:\n",
    "            list_total_cc[sustancia_a_indice[val]] += 1\n",
    "    return list_total_cc"
   ]
  },
  {
   "cell_type": "code",
   "execution_count": 177,
   "metadata": {},
   "outputs": [],
   "source": [
    "def map_impacto(group , df):\n",
    "    \"\"\"\n",
    "    Description: Map the impact of the drugs\n",
    "    return: df_result (dataframe)\n",
    "    \"\"\"\n",
    "    \n",
    "    df_result = pd.DataFrame(columns = ['Semestre', 'Año', 'Unidad', 'Estado', 'Categoria', 'Tabaco', 'ArribaMediaTabaco', 'Alcohol', 'ArribaMediaAlcohol', 'Inalables', 'ArribaMediaInalables', 'Cocaina', 'ArribaMediaCocaina', 'Metanfetaminas', 'ArribaMediaMetanfetaminas', 'OtrosEstimulantes', 'ArribaMediaOtrosEstimulantes', 'Extasis', 'ArribaMediaExtasis', 'Benzodiacepinas', 'ArribaMediaBenzodiacepinas', 'OtrosDepresores', 'ArribaMediaOtrosDepresores', 'Alucinogenos', 'ArribaMediaAlucinogenos', 'Heroina', 'ArribaMediaHeroina', 'OpiodesSinteticos', 'ArribaMediaOpiodesSinteticos', 'OpioDerivados', 'ArribaMediaOpioDerivados', 'UtilidadMedica', 'ArribaMediaUtilidadMedica', 'SustanciasDeAbuso', 'ArribaMediaSustanciasDeAbuso', 'Otros', 'ArribaMediaOtros'])\n",
    "    semestre = group['Semestre'].iloc[0]\n",
    "    año = group['AñoRegistro'].iloc[0]\n",
    "    list_total = get_total_cons(df, semestre, año)\n",
    "    list_totalcc = get_total_cons_cc(group)\n",
    "    df_result['Semestre'][0] = group['Semestre'].iloc[0]\n",
    "    df_result['Año'][0] = group['AñoRegistro'].iloc[0]\n",
    "    df_result['Unidad'][0] = 'Total'\n",
    "    df_result['Estado'][0] = group['CentroCostoId'].iloc[0]\n",
    "    df_result['Categoria'][0] = 'DrogaImpacto'\n",
    "    sustancias = ['Tabaco', 'Alcohol', 'Inalables', 'Cocaina', 'Metanfetaminas', 'OtrosEstimulantes', 'Extasis', 'Benzodiacepinas', 'OtrosDepresores', 'Alucinogenos', 'Heroina', 'OpiodesSinteticos', 'OpioDerivados', 'UtilidadMedica', 'SustanciasDeAbuso', 'Otros']\n",
    "    for i, sustancia in enumerate(sustancias):\n",
    "        df_result[sustancia][0] = list_totalcc[i]\n",
    "        df_result[f'ArribaMedia{sustancia}'][0] = 'Si' if int(list_totalcc[i]) > int(list_total) / 32 else 'No'\n",
    "    return df_result\n"
   ]
  },
  {
   "cell_type": "code",
   "execution_count": 178,
   "metadata": {},
   "outputs": [],
   "source": [
    "def map_impacto(group , df):\n",
    "    \"\"\"\n",
    "    Description: Map the impact of the drugs\n",
    "    return: df_result (dataframe)\n",
    "    \"\"\"\n",
    "    \n",
    "    df_result = pd.DataFrame(columns = ['Semestre', 'Año', 'Unidad', 'Estado', 'Categoria', 'Tabaco', 'ArribaMediaTabaco', 'Alcohol', 'ArribaMediaAlcohol', 'Inalables', 'ArribaMediaInalables', 'Cocaina', 'ArribaMediaCocaina', 'Metanfetaminas', 'ArribaMediaMetanfetaminas', 'OtrosEstimulantes', 'ArribaMediaOtrosEstimulantes', 'Extasis', 'ArribaMediaExtasis', 'Benzodiacepinas', 'ArribaMediaBenzodiacepinas', 'OtrosDepresores', 'ArribaMediaOtrosDepresores', 'Alucinogenos', 'ArribaMediaAlucinogenos', 'Heroina', 'ArribaMediaHeroina', 'OpiodesSinteticos', 'ArribaMediaOpiodesSinteticos', 'OpioDerivados', 'ArribaMediaOpioDerivados', 'UtilidadMedica', 'ArribaMediaUtilidadMedica', 'SustanciasDeAbuso', 'ArribaMediaSustanciasDeAbuso', 'Otros', 'ArribaMediaOtros'])\n",
    "    if df_result.empty:\n",
    "        df_result.loc[0] = 0\n",
    "    semestre = group['Semestre'].iloc[0]\n",
    "    año = group['AñoRegistro'].iloc[0]\n",
    "    list_total = get_total_cons(df, semestre, año)\n",
    "    list_totalcc = get_total_cons_cc(group)\n",
    "    df_result['Semestre'][0] = group['Semestre'].iloc[0]\n",
    "    df_result['Año'][0] = group['AñoRegistro'].iloc[0]\n",
    "    df_result['Unidad'][0] = 'Total'\n",
    "    df_result['Estado'][0] = group['CentroCostoId'].iloc[0]\n",
    "    df_result['Categoria'][0] = 'DrogaImpacto'\n",
    "\n",
    "    sustancias = ['Tabaco', 'Alcohol', 'Inalables', 'Cocaina', 'Metanfetaminas', 'OtrosEstimulantes', 'Extasis', 'Benzodiacepinas', 'OtrosDepresores', 'Alucinogenos', 'Heroina', 'OpiodesSinteticos', 'OpioDerivados', 'UtilidadMedica', 'SustanciasDeAbuso', 'Otros']\n",
    "    df_result.loc[0, sustancias] = list_totalcc[:len(sustancias)]\n",
    "    \n",
    "    sustancias = ['Tabaco', 'Alcohol', 'Inalables', 'Cocaina', 'Metanfetaminas', 'OtrosEstimulantes', 'Extasis', 'Benzodiacepinas', 'OtrosDepresores', 'Alucinogenos', 'Heroina', 'OpiodesSinteticos', 'OpioDerivados', 'UtilidadMedica', 'SustanciasDeAbuso', 'Otros']\n",
    "    for i, sustancia in enumerate(sustancias):\n",
    "        if df_result[sustancia][0] > list_total[i] / 32:\n",
    "            df_result[f'ArribaMedia{sustancia}'][0] = 1\n",
    "    return df_result"
   ]
  },
  {
   "cell_type": "code",
   "execution_count": 179,
   "metadata": {},
   "outputs": [],
   "source": [
    "warnings.filterwarnings(\"ignore\")\n",
    "df_result = pd.DataFrame()\n",
    "for val , group in df.groupby(['Semestre', 'AñoRegistro', 'CentroCostoId']):\n",
    "    df_result = pd.concat([df_result, map_impacto(group, df)])\n",
    "  \n"
   ]
  },
  {
   "cell_type": "code",
   "execution_count": 180,
   "metadata": {},
   "outputs": [],
   "source": [
    "def elim_col (df):\n",
    "    df['SustanciaId0'] = df['SustanciaId']\n",
    "    df['ComunAbstinenciaId0'] = df['ComunAbstinenciaId']\n",
    "    df.drop(columns = ['SustanciaId', 'ComunAbstinenciaId'], inplace = True)\n",
    "    return df"
   ]
  },
  {
   "cell_type": "code",
   "execution_count": 181,
   "metadata": {},
   "outputs": [],
   "source": [
    "def get_total_cons_UM (group, semestre, año):\n",
    "    \"\"\"\n",
    "    Description: Get the total of consultations by unit\n",
    "    return: list_total (list)\n",
    "    \"\"\"\n",
    "    \n",
    "    list_total = [0,0,0,0,0,0,0,0,0,0,0,0,0,0,0,0,0]\n",
    "    group = group[(group['Semestre'] == semestre) & (group['AñoRegistro'] == año)]\n",
    "    sustancia_a_indice = {\n",
    "        'Tabaco': 0, 'Alcohol': 1, 'Marihuana': 2, 'Inalables': 3, 'Cocaina': 4,\n",
    "        'Metanfetaminas': 5, 'OtrosEstimulantes': 6, 'Extasis': 7, 'Benzodiacepinas': 8,\n",
    "        'OtrosDepresores': 9, 'Alucinogenos': 10, 'Heroina': 11, 'OpiodesSinteticos': 12,\n",
    "        'OpioDerivados': 13, 'UtilidadMedica': 14, 'SustanciasDeAbuso': 15, 'Otros': 16\n",
    "    }\n",
    "    for col in group.columns:\n",
    "        if col.startswith('SustanciaI'):\n",
    "            exp = re.search(r'\\d+', col)\n",
    "            if exp:\n",
    "                for ind , val in group[col].items():\n",
    "                    if val in sustancia_a_indice:\n",
    "                        if group['ComunAbstinenciaId'+exp.group(0)][ind] in range(1, 4):\n",
    "                            list_total[sustancia_a_indice[val]] += 1\n",
    "    return list_total"
   ]
  },
  {
   "cell_type": "code",
   "execution_count": 182,
   "metadata": {},
   "outputs": [],
   "source": [
    "def get_total_cons_cc_UM (group):\n",
    "    \"\"\"\n",
    "    Description: Get the total of consultations by center\n",
    "    return: list_total_cc (list)\n",
    "    \"\"\"\n",
    "    \n",
    "    list_total_cc = [0,0,0,0,0,0,0,0,0,0,0,0,0,0,0,0,0]\n",
    "    sustancia_a_indice = {\n",
    "        'Tabaco': 0, 'Alcohol': 1, 'Marihuana': 2, 'Inalables': 3, 'Cocaina': 4,\n",
    "        'Metanfetaminas': 5, 'OtrosEstimulantes': 6, 'Extasis': 7, 'Benzodiacepinas': 8,\n",
    "        'OtrosDepresores': 9, 'Alucinogenos': 10, 'Heroina': 11, 'OpiodesSinteticos': 12,\n",
    "        'OpioDerivados': 13, 'UtilidadMedica': 14, 'SustanciasDeAbuso': 15, 'Otros': 16\n",
    "    }\n",
    "    for col in group.columns:\n",
    "        if col.startswith('SustanciaI'):\n",
    "            exp = re.search(r'\\d+', col)\n",
    "            if exp:\n",
    "                for ind, val in group[col].items():\n",
    "                    if val in sustancia_a_indice:\n",
    "                        if group['ComunAbstinenciaId'+exp.group(0)][ind] in range(1, 4):\n",
    "                            list_total_cc[sustancia_a_indice[val]] += 1\n",
    "    return list_total_cc"
   ]
  },
  {
   "cell_type": "code",
   "execution_count": 183,
   "metadata": {},
   "outputs": [],
   "source": [
    "def map_impacto(group , df):\n",
    "    \"\"\"\n",
    "    Description: Map the impact of the drugs\n",
    "    return: df_result (dataframe)\n",
    "    \"\"\"\n",
    "    \n",
    "    df_result = pd.DataFrame(columns = ['Semestre', 'Año', 'Unidad', 'Estado', 'Categoria', 'Tabaco', 'ArribaMediaTabaco', 'Alcohol', 'ArribaMediaAlcohol', 'Inalables', 'ArribaMediaInalables', 'Cocaina', 'ArribaMediaCocaina', 'Metanfetaminas', 'ArribaMediaMetanfetaminas', 'OtrosEstimulantes', 'ArribaMediaOtrosEstimulantes', 'Extasis', 'ArribaMediaExtasis', 'Benzodiacepinas', 'ArribaMediaBenzodiacepinas', 'OtrosDepresores', 'ArribaMediaOtrosDepresores', 'Alucinogenos', 'ArribaMediaAlucinogenos', 'Heroina', 'ArribaMediaHeroina', 'OpiodesSinteticos', 'ArribaMediaOpiodesSinteticos', 'OpioDerivados', 'ArribaMediaOpioDerivados', 'UtilidadMedica', 'ArribaMediaUtilidadMedica', 'SustanciasDeAbuso', 'ArribaMediaSustanciasDeAbuso', 'Otros', 'ArribaMediaOtros'])\n",
    "    if df_result.empty:\n",
    "        df_result.loc[0] = 0\n",
    "    semestre = group['Semestre'].iloc[0]\n",
    "    año = group['AñoRegistro'].iloc[0]\n",
    "    list_total = get_total_cons_UM(df, semestre, año)\n",
    "    list_totalcc = get_total_cons_cc_UM(group)\n",
    "    df_result['Semestre'][0] = group['Semestre'].iloc[0]\n",
    "    df_result['Año'][0] = group['AñoRegistro'].iloc[0]\n",
    "    df_result['Unidad'][0] = 'Total'\n",
    "    df_result['Estado'][0] = group['CentroCostoId'].iloc[0]\n",
    "    df_result['Categoria'][0] = 'DrogaImpacto'\n",
    "\n",
    "    sustancias = ['Tabaco', 'Alcohol', 'Inalables', 'Cocaina', 'Metanfetaminas', 'OtrosEstimulantes', 'Extasis', 'Benzodiacepinas', 'OtrosDepresores', 'Alucinogenos', 'Heroina', 'OpiodesSinteticos', 'OpioDerivados', 'UtilidadMedica', 'SustanciasDeAbuso', 'Otros']\n",
    "    df_result.loc[0, sustancias] = list_totalcc[:len(sustancias)]\n",
    "    \n",
    "    sustancias = ['Tabaco', 'Alcohol', 'Inalables', 'Cocaina', 'Metanfetaminas', 'OtrosEstimulantes', 'Extasis', 'Benzodiacepinas', 'OtrosDepresores', 'Alucinogenos', 'Heroina', 'OpiodesSinteticos', 'OpioDerivados', 'UtilidadMedica', 'SustanciasDeAbuso', 'Otros']\n",
    "    for i, sustancia in enumerate(sustancias):\n",
    "        if df_result[sustancia][0] > list_total[i] / 32:\n",
    "            df_result[f'ArribaMedia{sustancia}'][0] = 1\n",
    "    return df_result"
   ]
  },
  {
   "cell_type": "code",
   "execution_count": 184,
   "metadata": {},
   "outputs": [],
   "source": [
    "df = elim_col(df)\n",
    "warnings.filterwarnings(\"ignore\")\n",
    "df_result_UM = pd.DataFrame()\n",
    "for val , group in df.groupby(['Semestre', 'AñoRegistro', 'CentroCostoId']):\n",
    "    df_result_UM = pd.concat([df_result_UM, map_impacto(group, df)])\n",
    "  "
   ]
  },
  {
   "cell_type": "code",
   "execution_count": 185,
   "metadata": {},
   "outputs": [],
   "source": [
    "df_final = pd.concat([df_result, df_result_UM])\n",
    "df_final.to_csv('results/ImpactoDrogas.csv', index = False, encoding='utf-8')"
   ]
  }
 ],
 "metadata": {
  "kernelspec": {
   "display_name": ".venv",
   "language": "python",
   "name": "python3"
  },
  "language_info": {
   "codemirror_mode": {
    "name": "ipython",
    "version": 3
   },
   "file_extension": ".py",
   "mimetype": "text/x-python",
   "name": "python",
   "nbconvert_exporter": "python",
   "pygments_lexer": "ipython3",
   "version": "3.11.0"
  }
 },
 "nbformat": 4,
 "nbformat_minor": 2
}
