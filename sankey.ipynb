{
 "cells": [
  {
   "cell_type": "code",
   "execution_count": 1,
   "metadata": {},
   "outputs": [],
   "source": [
    "import pandas as pd\n",
    "import warnings\n",
    "import re"
   ]
  },
  {
   "cell_type": "code",
   "execution_count": 2,
   "metadata": {},
   "outputs": [],
   "source": [
    "def read_data ():\n",
    "    data = pd.read_csv('results\\EntrevistaInicial.csv')\n",
    "    return data"
   ]
  },
  {
   "cell_type": "code",
   "execution_count": 3,
   "metadata": {},
   "outputs": [],
   "source": [
    "def dicts ():\n",
    "    dict_sust = {'Tabaco':(1,2) , 'Alcohol':(3,4,5,84), 'Marihuana':(6,7,8,9,10,11),'Inalables':(24,25,26,27,28) , 'Cocaina':(12,13,14,15,86) , 'Metanfetaminas': (16,17,18,19,85) , 'OtrosEstimulantes':(19,20,21,22,23), 'Extasis':(22,50,51,48), 'Benzodiacepinas': (52,53) , 'OtrosDepresores': (54,55,56), 'Alucinogenos': (29,30,31,32,33,34,35,36,37,38,39,40,41,42,43,44,45,46,47), 'Heroina': (60,61), 'OpiodesSinteticos': (62,63,64,65,66,67), 'OpioDerivados': (57,58,59), 'UtilidadMedica': (68,69,70,71,72,73,74,75), 'SustanciasDeAbuso': (76,77,78,79,80,81,82), 'Otros': (83,10000)}\n",
    "    return dict_sust"
   ]
  },
  {
   "cell_type": "code",
   "execution_count": 4,
   "metadata": {},
   "outputs": [],
   "source": [
    "def mod_sustancias (df, dict_sust):\n",
    "    for col in df.columns:\n",
    "        if col.startswith('SustanciaI'):\n",
    "            for ind, val in  df [col].items():\n",
    "                for key, value in dict_sust.items():\n",
    "                    if val in value:\n",
    "                        df.at[ind, col] = key\n",
    "    return df\n"
   ]
  },
  {
   "cell_type": "code",
   "execution_count": 5,
   "metadata": {},
   "outputs": [],
   "source": [
    "def dropcolumns (df):\n",
    "    listg = []\n",
    "    for col in df.columns:\n",
    "        if col.startswith('SustanciaI') or col.startswith('FolioI') or col.startswith('OrdenConsumo'):\n",
    "            listg.append(col)\n",
    "        else:\n",
    "            df = df.drop(columns = col)\n",
    "    return df"
   ]
  },
  {
   "cell_type": "code",
   "execution_count": 6,
   "metadata": {},
   "outputs": [],
   "source": [
    "def searchind(df, col):\n",
    "    if col.startswith('SustanciaI'):\n",
    "        exp = re.search(r'(SustanciaId)(\\d)', col)\n",
    "        if exp:\n",
    "            return exp.group(2)\n",
    "        else:\n",
    "            return None"
   ]
  },
  {
   "cell_type": "code",
   "execution_count": 7,
   "metadata": {},
   "outputs": [],
   "source": [
    "def sustancias1 (df, sust):\n",
    "    list_folio = []\n",
    "    for col in df.columns:\n",
    "        for ind, val in df[col].items():\n",
    "            if val == sust:\n",
    "                exp = searchind(df, col)\n",
    "                if df['OrdenConsumo'+str(exp)][ind] == 1:\n",
    "                    list_folio.append(df.at[ind, 'FolioId'])\n",
    "    return list_folio\n"
   ]
  },
  {
   "cell_type": "code",
   "execution_count": 8,
   "metadata": {},
   "outputs": [],
   "source": [
    "def sustancias2 (df,sust):\n",
    "    list_folio = []\n",
    "    for col in df.columns:\n",
    "        for ind, val in df[col].items():\n",
    "            if val == sust:\n",
    "                exp = searchind(df, col)\n",
    "                if df['OrdenConsumo'+str(exp)][ind] == 2:\n",
    "                    list_folio.append(df.at[ind, 'FolioId'])\n",
    "    return list_folio   \n"
   ]
  },
  {
   "cell_type": "code",
   "execution_count": 9,
   "metadata": {},
   "outputs": [],
   "source": [
    "def sustancias3 (df,sust):\n",
    "    list_folio = []\n",
    "    for col in df.columns:\n",
    "        for ind, val in df[col].items():\n",
    "            if val == sust:\n",
    "                exp = searchind(df, col)\n",
    "                if df['OrdenConsumo'+str(exp)][ind] == 3:\n",
    "                    list_folio.append(df.at[ind, 'FolioId'])\n",
    "    return list_folio  "
   ]
  },
  {
   "cell_type": "code",
   "execution_count": 10,
   "metadata": {},
   "outputs": [],
   "source": [
    "def snkgr(df, list_sust, sust):\n",
    "    dict_sust = {}\n",
    "    #for key, val in list_sust.items():\n",
    "    list = sustancias1(df, sust)\n",
    "    df1 = df[df['FolioId'].isin(list)]\n",
    "    for key, val in list_sust.items():\n",
    "        list = sustancias2(df1, key)\n",
    "        df2 = df1[df1['FolioId'].isin(list)]\n",
    "        dict_sust[key] = (df2)\n",
    "    return dict_sust"
   ]
  },
  {
   "cell_type": "code",
   "execution_count": 11,
   "metadata": {},
   "outputs": [],
   "source": [
    "def dropcol(df):\n",
    "    df['SustanciaId0'] = df['SustanciaId']\n",
    "    df['OrdenConsumo0'] = df['OrdenConsumo']\n",
    "    df.drop(columns = 'SustanciaId', inplace = True)\n",
    "    df.drop(columns = 'OrdenConsumo', inplace = True)\n",
    "    return df"
   ]
  },
  {
   "cell_type": "code",
   "execution_count": 12,
   "metadata": {},
   "outputs": [],
   "source": [
    "def gen_dataset (list_sust):\n",
    "    count = 0\n",
    "    dict_aux = {0:'Tabaco', 1: 'Alcohol', 2: 'Marihuana', 3: 'Inalables', 4: 'Cocaina', 5: 'Metanfetaminas', 6: 'OtrosEstimulantes', 7: 'Extasis', 8: 'Benzodiacepinas', 9: 'OtrosDepresores', 10: 'Alucinogenos', 11: 'Heroina', 12: 'OpiodesSinteticos', 13: 'OpioDerivados', 14: 'UtilidadMedica', 15: 'SustanciasDeAbuso', 16: 'Otros'} \n",
    "    df_sankey1_2 = pd.DataFrame(columns = ['From', 'To', 'Value'])\n",
    "    for i in range (0,16):\n",
    "        for key, val in list_sust[i].items():\n",
    "            aux = dict_aux[i]\n",
    "            df_sankey1_2.loc[count] = [aux+str(1), key+str(2), len(val)]\n",
    "            count += 1\n",
    "    return df_sankey1_2"
   ]
  },
  {
   "cell_type": "code",
   "execution_count": 13,
   "metadata": {},
   "outputs": [],
   "source": [
    "def main():\n",
    "    list_sust = []\n",
    "    df = read_data()\n",
    "    df = dropcol(df)\n",
    "    df = mod_sustancias(df, dicts())\n",
    "    df = dropcolumns(df)\n",
    "    sust = dicts()\n",
    "    for key, val in sust.items():\n",
    "        list_sust.append(snkgr(df, dicts(), key))\n",
    "    df_sankey1_2 = gen_dataset(list_sust)\n",
    "    return df_sankey1_2, list_sust        "
   ]
  },
  {
   "cell_type": "code",
   "execution_count": 14,
   "metadata": {},
   "outputs": [],
   "source": [
    "warnings.filterwarnings(\"ignore\")\n",
    "df_sankey1_2, list_sust = main()"
   ]
  },
  {
   "cell_type": "code",
   "execution_count": 15,
   "metadata": {},
   "outputs": [],
   "source": [
    "def snkgr3(df, list_sust, sust):\n",
    "    dict_sust = {}\n",
    "    list3 = []\n",
    "    for droga in list_sust:\n",
    "        list = sustancias3(df, droga)\n",
    "        df2 = df[df['FolioId'].isin(list)]\n",
    "        dict_sust[droga] = (df2)\n",
    "        list3.append(dict_sust)\n",
    "    return list3"
   ]
  },
  {
   "cell_type": "code",
   "execution_count": 16,
   "metadata": {},
   "outputs": [],
   "source": [
    "listnvl3 = []\n",
    "for i in range(0,16):\n",
    "    for key, val in list_sust[i].items():\n",
    "        listnvl3.append(snkgr3(list_sust[i][key], dicts(), key))\n"
   ]
  },
  {
   "cell_type": "code",
   "execution_count": 17,
   "metadata": {},
   "outputs": [],
   "source": [
    "def gen_dataset2 (listnvl3):\n",
    "    count = 0\n",
    "    dict_aux = {0:'Tabaco', 1: 'Alcohol', 2: 'Marihuana', 3: 'Inalables', 4: 'Cocaina', 5: 'Metanfetaminas', 6: 'OtrosEstimulantes', 7: 'Extasis', 8: 'Benzodiacepinas', 9: 'OtrosDepresores', 10: 'Alucinogenos', 11: 'Heroina', 12: 'OpiodesSinteticos', 13: 'OpioDerivados', 14: 'UtilidadMedica', 15: 'SustanciasDeAbuso', 16: 'Otros'} \n",
    "    df_sankey2_3 = pd.DataFrame(columns = ['From', 'To', 'Value'])\n",
    "    for i in range (0,16):\n",
    "        for j in range(0,16):\n",
    "            for key, val in listnvl3[i][j].items():\n",
    "                aux = dict_aux[i]\n",
    "                df_sankey2_3.loc[count] = [aux+str(2), key+str(3), len(val)]\n",
    "                count += 1\n",
    "    return df_sankey2_3"
   ]
  },
  {
   "cell_type": "code",
   "execution_count": 18,
   "metadata": {},
   "outputs": [],
   "source": [
    "def moddf (df):\n",
    "    dfnew = pd.concat([df.iloc[0:17], df.iloc[272:289], df.iloc[544:561], df.iloc[816:833], df.iloc[1088:1105], df.iloc[1360:1377], df.iloc[1632:1649], df.iloc[1904:1921], df.iloc[2176:2193], df.iloc[2448:2465], df.iloc[2720:2737], df.iloc[2992:3009], df.iloc[3264:3281], df.iloc[3536:3553], df.iloc[3808:3825], df.iloc[4080:4097]])\n",
    "    return dfnew"
   ]
  },
  {
   "cell_type": "code",
   "execution_count": 19,
   "metadata": {},
   "outputs": [],
   "source": [
    "df_sankey2_3 = gen_dataset2(listnvl3)\n",
    "df_sankey2_3 = moddf(df_sankey2_3)\n",
    "df_sankey = pd.concat([df_sankey1_2, df_sankey2_3])\n"
   ]
  },
  {
   "cell_type": "code",
   "execution_count": 20,
   "metadata": {},
   "outputs": [],
   "source": [
    "df_sankey.to_csv('results\\Sankey.csv', index = False)"
   ]
  },
  {
   "cell_type": "code",
   "execution_count": 21,
   "metadata": {},
   "outputs": [
    {
     "data": {
      "application/vnd.plotly.v1+json": {
       "config": {
        "plotlyServerURL": "https://plot.ly"
       },
       "data": [
        {
         "link": {
          "source": [
           2,
           2,
           2,
           2,
           2,
           2,
           2,
           2,
           2,
           2,
           2,
           2,
           2,
           2,
           2,
           2,
           2,
           45,
           45,
           45,
           45,
           45,
           45,
           45,
           45,
           45,
           45,
           45,
           45,
           45,
           45,
           45,
           45,
           45,
           32,
           32,
           32,
           32,
           32,
           32,
           32,
           32,
           32,
           32,
           32,
           32,
           32,
           32,
           32,
           32,
           32,
           11,
           11,
           11,
           11,
           11,
           11,
           11,
           11,
           11,
           11,
           11,
           11,
           11,
           11,
           11,
           11,
           11,
           47,
           47,
           47,
           47,
           47,
           47,
           47,
           47,
           47,
           47,
           47,
           47,
           47,
           47,
           47,
           47,
           47,
           19,
           19,
           19,
           19,
           19,
           19,
           19,
           19,
           19,
           19,
           19,
           19,
           19,
           19,
           19,
           19,
           19,
           25,
           25,
           25,
           25,
           25,
           25,
           25,
           25,
           25,
           25,
           25,
           25,
           25,
           25,
           25,
           25,
           25,
           4,
           4,
           4,
           4,
           4,
           4,
           4,
           4,
           4,
           4,
           4,
           4,
           4,
           4,
           4,
           4,
           4,
           21,
           21,
           21,
           21,
           21,
           21,
           21,
           21,
           21,
           21,
           21,
           21,
           21,
           21,
           21,
           21,
           21,
           24,
           24,
           24,
           24,
           24,
           24,
           24,
           24,
           24,
           24,
           24,
           24,
           24,
           24,
           24,
           24,
           24,
           28,
           28,
           28,
           28,
           28,
           28,
           28,
           28,
           28,
           28,
           28,
           28,
           28,
           28,
           28,
           28,
           28,
           26,
           26,
           26,
           26,
           26,
           26,
           26,
           26,
           26,
           26,
           26,
           26,
           26,
           26,
           26,
           26,
           26,
           29,
           29,
           29,
           29,
           29,
           29,
           29,
           29,
           29,
           29,
           29,
           29,
           29,
           29,
           29,
           29,
           29,
           34,
           34,
           34,
           34,
           34,
           34,
           34,
           34,
           34,
           34,
           34,
           34,
           34,
           34,
           34,
           34,
           34,
           6,
           6,
           6,
           6,
           6,
           6,
           6,
           6,
           6,
           6,
           6,
           6,
           6,
           6,
           6,
           6,
           6,
           44,
           44,
           44,
           44,
           44,
           44,
           44,
           44,
           44,
           44,
           44,
           44,
           44,
           44,
           44,
           44,
           44,
           7,
           7,
           7,
           7,
           7,
           7,
           7,
           7,
           7,
           7,
           7,
           7,
           7,
           7,
           7,
           7,
           7,
           48,
           48,
           48,
           48,
           48,
           48,
           48,
           48,
           48,
           48,
           48,
           48,
           48,
           48,
           48,
           48,
           48,
           46,
           46,
           46,
           46,
           46,
           46,
           46,
           46,
           46,
           46,
           46,
           46,
           46,
           46,
           46,
           46,
           46,
           0,
           0,
           0,
           0,
           0,
           0,
           0,
           0,
           0,
           0,
           0,
           0,
           0,
           0,
           0,
           0,
           0,
           49,
           49,
           49,
           49,
           49,
           49,
           49,
           49,
           49,
           49,
           49,
           49,
           49,
           49,
           49,
           49,
           49,
           27,
           27,
           27,
           27,
           27,
           27,
           27,
           27,
           27,
           27,
           27,
           27,
           27,
           27,
           27,
           27,
           27,
           33,
           33,
           33,
           33,
           33,
           33,
           33,
           33,
           33,
           33,
           33,
           33,
           33,
           33,
           33,
           33,
           33,
           10,
           10,
           10,
           10,
           10,
           10,
           10,
           10,
           10,
           10,
           10,
           10,
           10,
           10,
           10,
           10,
           10,
           22,
           22,
           22,
           22,
           22,
           22,
           22,
           22,
           22,
           22,
           22,
           22,
           22,
           22,
           22,
           22,
           22,
           43,
           43,
           43,
           43,
           43,
           43,
           43,
           43,
           43,
           43,
           43,
           43,
           43,
           43,
           43,
           43,
           43,
           30,
           30,
           30,
           30,
           30,
           30,
           30,
           30,
           30,
           30,
           30,
           30,
           30,
           30,
           30,
           30,
           30,
           31,
           31,
           31,
           31,
           31,
           31,
           31,
           31,
           31,
           31,
           31,
           31,
           31,
           31,
           31,
           31,
           31,
           36,
           36,
           36,
           36,
           36,
           36,
           36,
           36,
           36,
           36,
           36,
           36,
           36,
           36,
           36,
           36,
           36,
           40,
           40,
           40,
           40,
           40,
           40,
           40,
           40,
           40,
           40,
           40,
           40,
           40,
           40,
           40,
           40,
           40,
           3,
           3,
           3,
           3,
           3,
           3,
           3,
           3,
           3,
           3,
           3,
           3,
           3,
           3,
           3,
           3,
           3,
           5,
           5,
           5,
           5,
           5,
           5,
           5,
           5,
           5,
           5,
           5,
           5,
           5,
           5,
           5,
           5,
           5
          ],
          "target": [
           7,
           48,
           46,
           0,
           49,
           27,
           33,
           10,
           22,
           43,
           30,
           31,
           36,
           40,
           3,
           5,
           17,
           7,
           48,
           46,
           0,
           49,
           27,
           33,
           10,
           22,
           43,
           30,
           31,
           36,
           40,
           3,
           5,
           17,
           7,
           48,
           46,
           0,
           49,
           27,
           33,
           10,
           22,
           43,
           30,
           31,
           36,
           40,
           3,
           5,
           17,
           7,
           48,
           46,
           0,
           49,
           27,
           33,
           10,
           22,
           43,
           30,
           31,
           36,
           40,
           3,
           5,
           17,
           7,
           48,
           46,
           0,
           49,
           27,
           33,
           10,
           22,
           43,
           30,
           31,
           36,
           40,
           3,
           5,
           17,
           7,
           48,
           46,
           0,
           49,
           27,
           33,
           10,
           22,
           43,
           30,
           31,
           36,
           40,
           3,
           5,
           17,
           7,
           48,
           46,
           0,
           49,
           27,
           33,
           10,
           22,
           43,
           30,
           31,
           36,
           40,
           3,
           5,
           17,
           7,
           48,
           46,
           0,
           49,
           27,
           33,
           10,
           22,
           43,
           30,
           31,
           36,
           40,
           3,
           5,
           17,
           7,
           48,
           46,
           0,
           49,
           27,
           33,
           10,
           22,
           43,
           30,
           31,
           36,
           40,
           3,
           5,
           17,
           7,
           48,
           46,
           0,
           49,
           27,
           33,
           10,
           22,
           43,
           30,
           31,
           36,
           40,
           3,
           5,
           17,
           7,
           48,
           46,
           0,
           49,
           27,
           33,
           10,
           22,
           43,
           30,
           31,
           36,
           40,
           3,
           5,
           17,
           7,
           48,
           46,
           0,
           49,
           27,
           33,
           10,
           22,
           43,
           30,
           31,
           36,
           40,
           3,
           5,
           17,
           7,
           48,
           46,
           0,
           49,
           27,
           33,
           10,
           22,
           43,
           30,
           31,
           36,
           40,
           3,
           5,
           17,
           7,
           48,
           46,
           0,
           49,
           27,
           33,
           10,
           22,
           43,
           30,
           31,
           36,
           40,
           3,
           5,
           17,
           7,
           48,
           46,
           0,
           49,
           27,
           33,
           10,
           22,
           43,
           30,
           31,
           36,
           40,
           3,
           5,
           17,
           7,
           48,
           46,
           0,
           49,
           27,
           33,
           10,
           22,
           43,
           30,
           31,
           36,
           40,
           3,
           5,
           17,
           13,
           23,
           15,
           41,
           38,
           1,
           35,
           20,
           42,
           16,
           14,
           9,
           18,
           12,
           8,
           37,
           39,
           13,
           23,
           15,
           41,
           38,
           1,
           35,
           20,
           42,
           16,
           14,
           9,
           18,
           12,
           8,
           37,
           39,
           13,
           23,
           15,
           41,
           38,
           1,
           35,
           20,
           42,
           16,
           14,
           9,
           18,
           12,
           8,
           37,
           39,
           13,
           23,
           15,
           41,
           38,
           1,
           35,
           20,
           42,
           16,
           14,
           9,
           18,
           12,
           8,
           37,
           39,
           13,
           23,
           15,
           41,
           38,
           1,
           35,
           20,
           42,
           16,
           14,
           9,
           18,
           12,
           8,
           37,
           39,
           13,
           23,
           15,
           41,
           38,
           1,
           35,
           20,
           42,
           16,
           14,
           9,
           18,
           12,
           8,
           37,
           39,
           13,
           23,
           15,
           41,
           38,
           1,
           35,
           20,
           42,
           16,
           14,
           9,
           18,
           12,
           8,
           37,
           39,
           13,
           23,
           15,
           41,
           38,
           1,
           35,
           20,
           42,
           16,
           14,
           9,
           18,
           12,
           8,
           37,
           39,
           13,
           23,
           15,
           41,
           38,
           1,
           35,
           20,
           42,
           16,
           14,
           9,
           18,
           12,
           8,
           37,
           39,
           13,
           23,
           15,
           41,
           38,
           1,
           35,
           20,
           42,
           16,
           14,
           9,
           18,
           12,
           8,
           37,
           39,
           13,
           23,
           15,
           41,
           38,
           1,
           35,
           20,
           42,
           16,
           14,
           9,
           18,
           12,
           8,
           37,
           39,
           13,
           23,
           15,
           41,
           38,
           1,
           35,
           20,
           42,
           16,
           14,
           9,
           18,
           12,
           8,
           37,
           39,
           13,
           23,
           15,
           41,
           38,
           1,
           35,
           20,
           42,
           16,
           14,
           9,
           18,
           12,
           8,
           37,
           39,
           13,
           23,
           15,
           41,
           38,
           1,
           35,
           20,
           42,
           16,
           14,
           9,
           18,
           12,
           8,
           37,
           39,
           13,
           23,
           15,
           41,
           38,
           1,
           35,
           20,
           42,
           16,
           14,
           9,
           18,
           12,
           8,
           37,
           39,
           13,
           23,
           15,
           41,
           38,
           1,
           35,
           20,
           42,
           16,
           14,
           9,
           18,
           12,
           8,
           37,
           39
          ],
          "value": [
           271,
           9043,
           6142,
           1331,
           3158,
           2570,
           122,
           286,
           766,
           94,
           1138,
           97,
           135,
           22,
           118,
           105,
           0,
           8020,
           5141,
           5515,
           1096,
           2635,
           1917,
           91,
           200,
           560,
           83,
           917,
           71,
           105,
           12,
           84,
           123,
           0,
           3113,
           2964,
           492,
           940,
           2323,
           1676,
           81,
           153,
           533,
           64,
           822,
           60,
           90,
           14,
           66,
           75,
           0,
           527,
           464,
           466,
           256,
           398,
           236,
           20,
           36,
           150,
           14,
           148,
           14,
           15,
           5,
           15,
           12,
           0,
           1466,
           1587,
           1327,
           697,
           1322,
           1538,
           80,
           197,
           405,
           43,
           719,
           71,
           53,
           9,
           44,
           44,
           0,
           1222,
           935,
           922,
           363,
           1115,
           89,
           59,
           108,
           318,
           43,
           463,
           46,
           40,
           6,
           44,
           36,
           0,
           40,
           27,
           25,
           10,
           37,
           28,
           1,
           7,
           7,
           0,
           22,
           2,
           1,
           0,
           0,
           2,
           0,
           102,
           94,
           103,
           32,
           106,
           69,
           2,
           2,
           33,
           2,
           139,
           5,
           7,
           2,
           6,
           4,
           0,
           243,
           249,
           215,
           139,
           234,
           160,
           11,
           31,
           9,
           7,
           149,
           7,
           34,
           7,
           18,
           11,
           0,
           31,
           33,
           27,
           14,
           29,
           24,
           0,
           2,
           5,
           0,
           22,
           2,
           6,
           0,
           2,
           3,
           0,
           500,
           492,
           434,
           220,
           580,
           383,
           29,
           178,
           178,
           13,
           420,
           19,
           37,
           5,
           25,
           25,
           0,
           41,
           26,
           42,
           19,
           46,
           45,
           3,
           3,
           12,
           1,
           15,
           7,
           9,
           1,
           1,
           0,
           0,
           48,
           45,
           50,
           12,
           36,
           25,
           2,
           13,
           26,
           2,
           37,
           4,
           13,
           1,
           8,
           3,
           0,
           8,
           18,
           20,
           9,
           16,
           11,
           0,
           6,
           5,
           1,
           21,
           2,
           3,
           2,
           0,
           0,
           0,
           38,
           29,
           35,
           13,
           33,
           21,
           1,
           5,
           8,
           1,
           16,
           1,
           8,
           1,
           13,
           1,
           0,
           42,
           33,
           39,
           8,
           21,
           15,
           0,
           7,
           2,
           0,
           12,
           2,
           2,
           2,
           2,
           2,
           0,
           0,
           72,
           63,
           3,
           11,
           10,
           0,
           0,
           2,
           1,
           3,
           0,
           1,
           0,
           1,
           2,
           0,
           20,
           764,
           1449,
           216,
           397,
           317,
           19,
           27,
           104,
           13,
           151,
           8,
           23,
           3,
           13,
           19,
           0,
           18,
           229,
           126,
           258,
           446,
           415,
           18,
           37,
           151,
           13,
           168,
           13,
           34,
           2,
           20,
           23,
           0,
           0,
           47,
           109,
           96,
           104,
           80,
           10,
           15,
           51,
           3,
           63,
           4,
           2,
           1,
           2,
           1,
           0,
           3,
           138,
           188,
           173,
           215,
           330,
           15,
           37,
           76,
           7,
           154,
           18,
           13,
           2,
           11,
           10,
           0,
           1,
           88,
           161,
           117,
           177,
           28,
           16,
           32,
           71,
           13,
           122,
           9,
           13,
           2,
           11,
           9,
           0,
           0,
           5,
           10,
           7,
           10,
           4,
           2,
           2,
           1,
           1,
           9,
           0,
           2,
           0,
           0,
           0,
           0,
           1,
           16,
           27,
           12,
           29,
           21,
           4,
           0,
           12,
           0,
           45,
           3,
           3,
           1,
           4,
           3,
           0,
           1,
           35,
           63,
           44,
           64,
           55,
           3,
           11,
           3,
           1,
           48,
           7,
           14,
           4,
           6,
           3,
           0,
           0,
           5,
           5,
           9,
           11,
           9,
           0,
           1,
           1,
           0,
           9,
           0,
           1,
           0,
           1,
           1,
           0,
           6,
           64,
           92,
           66,
           107,
           86,
           12,
           46,
           38,
           4,
           99,
           4,
           15,
           1,
           7,
           4,
           0,
           0,
           4,
           13,
           8,
           7,
           10,
           0,
           1,
           6,
           0,
           9,
           0,
           0,
           0,
           0,
           0,
           0,
           0,
           8,
           8,
           3,
           14,
           11,
           1,
           1,
           19,
           0,
           8,
           1,
           4,
           1,
           2,
           2,
           0,
           0,
           1,
           3,
           1,
           2,
           1,
           0,
           0,
           1,
           0,
           3,
           2,
           0,
           0,
           0,
           0,
           0,
           2,
           6,
           8,
           4,
           10,
           3,
           0,
           2,
           2,
           0,
           7,
           0,
           1,
           0,
           3,
           0,
           0,
           0,
           9,
           6,
           2,
           7,
           6,
           0,
           0,
           0,
           0,
           6,
           0,
           0,
           0,
           0,
           2,
           0
          ]
         },
         "node": {
          "label": [
           "Inalables2",
           "Metanfetaminas3",
           "Tabaco1",
           "UtilidadMedica2",
           "Extasis1",
           "SustanciasDeAbuso2",
           "UtilidadMedica1",
           "Tabaco2",
           "UtilidadMedica3",
           "Heroina3",
           "Extasis2",
           "Inalables1",
           "OpioDerivados3",
           "Tabaco3",
           "Alucinogenos3",
           "Marihuana3",
           "OtrosDepresores3",
           "Otros2",
           "OpiodesSinteticos3",
           "Metanfetaminas1",
           "Extasis3",
           "Benzodiacepinas1",
           "Benzodiacepinas2",
           "Alcohol3",
           "OtrosDepresores1",
           "OtrosEstimulantes1",
           "Heroina1",
           "Metanfetaminas2",
           "Alucinogenos1",
           "OpiodesSinteticos1",
           "Alucinogenos2",
           "Heroina2",
           "Marihuana1",
           "OtrosEstimulantes2",
           "OpioDerivados1",
           "OtrosEstimulantes3",
           "OpiodesSinteticos2",
           "SustanciasDeAbuso3",
           "Cocaina3",
           "Otros3",
           "OpioDerivados2",
           "Inalables3",
           "Benzodiacepinas3",
           "OtrosDepresores2",
           "SustanciasDeAbuso1",
           "Alcohol1",
           "Marihuana2",
           "Cocaina1",
           "Alcohol2",
           "Cocaina2"
          ],
          "line": {
           "color": "black",
           "width": 0.5
          },
          "pad": 15,
          "thickness": 20
         },
         "type": "sankey"
        }
       ],
       "layout": {
        "template": {
         "data": {
          "bar": [
           {
            "error_x": {
             "color": "#2a3f5f"
            },
            "error_y": {
             "color": "#2a3f5f"
            },
            "marker": {
             "line": {
              "color": "#E5ECF6",
              "width": 0.5
             },
             "pattern": {
              "fillmode": "overlay",
              "size": 10,
              "solidity": 0.2
             }
            },
            "type": "bar"
           }
          ],
          "barpolar": [
           {
            "marker": {
             "line": {
              "color": "#E5ECF6",
              "width": 0.5
             },
             "pattern": {
              "fillmode": "overlay",
              "size": 10,
              "solidity": 0.2
             }
            },
            "type": "barpolar"
           }
          ],
          "carpet": [
           {
            "aaxis": {
             "endlinecolor": "#2a3f5f",
             "gridcolor": "white",
             "linecolor": "white",
             "minorgridcolor": "white",
             "startlinecolor": "#2a3f5f"
            },
            "baxis": {
             "endlinecolor": "#2a3f5f",
             "gridcolor": "white",
             "linecolor": "white",
             "minorgridcolor": "white",
             "startlinecolor": "#2a3f5f"
            },
            "type": "carpet"
           }
          ],
          "choropleth": [
           {
            "colorbar": {
             "outlinewidth": 0,
             "ticks": ""
            },
            "type": "choropleth"
           }
          ],
          "contour": [
           {
            "colorbar": {
             "outlinewidth": 0,
             "ticks": ""
            },
            "colorscale": [
             [
              0,
              "#0d0887"
             ],
             [
              0.1111111111111111,
              "#46039f"
             ],
             [
              0.2222222222222222,
              "#7201a8"
             ],
             [
              0.3333333333333333,
              "#9c179e"
             ],
             [
              0.4444444444444444,
              "#bd3786"
             ],
             [
              0.5555555555555556,
              "#d8576b"
             ],
             [
              0.6666666666666666,
              "#ed7953"
             ],
             [
              0.7777777777777778,
              "#fb9f3a"
             ],
             [
              0.8888888888888888,
              "#fdca26"
             ],
             [
              1,
              "#f0f921"
             ]
            ],
            "type": "contour"
           }
          ],
          "contourcarpet": [
           {
            "colorbar": {
             "outlinewidth": 0,
             "ticks": ""
            },
            "type": "contourcarpet"
           }
          ],
          "heatmap": [
           {
            "colorbar": {
             "outlinewidth": 0,
             "ticks": ""
            },
            "colorscale": [
             [
              0,
              "#0d0887"
             ],
             [
              0.1111111111111111,
              "#46039f"
             ],
             [
              0.2222222222222222,
              "#7201a8"
             ],
             [
              0.3333333333333333,
              "#9c179e"
             ],
             [
              0.4444444444444444,
              "#bd3786"
             ],
             [
              0.5555555555555556,
              "#d8576b"
             ],
             [
              0.6666666666666666,
              "#ed7953"
             ],
             [
              0.7777777777777778,
              "#fb9f3a"
             ],
             [
              0.8888888888888888,
              "#fdca26"
             ],
             [
              1,
              "#f0f921"
             ]
            ],
            "type": "heatmap"
           }
          ],
          "heatmapgl": [
           {
            "colorbar": {
             "outlinewidth": 0,
             "ticks": ""
            },
            "colorscale": [
             [
              0,
              "#0d0887"
             ],
             [
              0.1111111111111111,
              "#46039f"
             ],
             [
              0.2222222222222222,
              "#7201a8"
             ],
             [
              0.3333333333333333,
              "#9c179e"
             ],
             [
              0.4444444444444444,
              "#bd3786"
             ],
             [
              0.5555555555555556,
              "#d8576b"
             ],
             [
              0.6666666666666666,
              "#ed7953"
             ],
             [
              0.7777777777777778,
              "#fb9f3a"
             ],
             [
              0.8888888888888888,
              "#fdca26"
             ],
             [
              1,
              "#f0f921"
             ]
            ],
            "type": "heatmapgl"
           }
          ],
          "histogram": [
           {
            "marker": {
             "pattern": {
              "fillmode": "overlay",
              "size": 10,
              "solidity": 0.2
             }
            },
            "type": "histogram"
           }
          ],
          "histogram2d": [
           {
            "colorbar": {
             "outlinewidth": 0,
             "ticks": ""
            },
            "colorscale": [
             [
              0,
              "#0d0887"
             ],
             [
              0.1111111111111111,
              "#46039f"
             ],
             [
              0.2222222222222222,
              "#7201a8"
             ],
             [
              0.3333333333333333,
              "#9c179e"
             ],
             [
              0.4444444444444444,
              "#bd3786"
             ],
             [
              0.5555555555555556,
              "#d8576b"
             ],
             [
              0.6666666666666666,
              "#ed7953"
             ],
             [
              0.7777777777777778,
              "#fb9f3a"
             ],
             [
              0.8888888888888888,
              "#fdca26"
             ],
             [
              1,
              "#f0f921"
             ]
            ],
            "type": "histogram2d"
           }
          ],
          "histogram2dcontour": [
           {
            "colorbar": {
             "outlinewidth": 0,
             "ticks": ""
            },
            "colorscale": [
             [
              0,
              "#0d0887"
             ],
             [
              0.1111111111111111,
              "#46039f"
             ],
             [
              0.2222222222222222,
              "#7201a8"
             ],
             [
              0.3333333333333333,
              "#9c179e"
             ],
             [
              0.4444444444444444,
              "#bd3786"
             ],
             [
              0.5555555555555556,
              "#d8576b"
             ],
             [
              0.6666666666666666,
              "#ed7953"
             ],
             [
              0.7777777777777778,
              "#fb9f3a"
             ],
             [
              0.8888888888888888,
              "#fdca26"
             ],
             [
              1,
              "#f0f921"
             ]
            ],
            "type": "histogram2dcontour"
           }
          ],
          "mesh3d": [
           {
            "colorbar": {
             "outlinewidth": 0,
             "ticks": ""
            },
            "type": "mesh3d"
           }
          ],
          "parcoords": [
           {
            "line": {
             "colorbar": {
              "outlinewidth": 0,
              "ticks": ""
             }
            },
            "type": "parcoords"
           }
          ],
          "pie": [
           {
            "automargin": true,
            "type": "pie"
           }
          ],
          "scatter": [
           {
            "fillpattern": {
             "fillmode": "overlay",
             "size": 10,
             "solidity": 0.2
            },
            "type": "scatter"
           }
          ],
          "scatter3d": [
           {
            "line": {
             "colorbar": {
              "outlinewidth": 0,
              "ticks": ""
             }
            },
            "marker": {
             "colorbar": {
              "outlinewidth": 0,
              "ticks": ""
             }
            },
            "type": "scatter3d"
           }
          ],
          "scattercarpet": [
           {
            "marker": {
             "colorbar": {
              "outlinewidth": 0,
              "ticks": ""
             }
            },
            "type": "scattercarpet"
           }
          ],
          "scattergeo": [
           {
            "marker": {
             "colorbar": {
              "outlinewidth": 0,
              "ticks": ""
             }
            },
            "type": "scattergeo"
           }
          ],
          "scattergl": [
           {
            "marker": {
             "colorbar": {
              "outlinewidth": 0,
              "ticks": ""
             }
            },
            "type": "scattergl"
           }
          ],
          "scattermapbox": [
           {
            "marker": {
             "colorbar": {
              "outlinewidth": 0,
              "ticks": ""
             }
            },
            "type": "scattermapbox"
           }
          ],
          "scatterpolar": [
           {
            "marker": {
             "colorbar": {
              "outlinewidth": 0,
              "ticks": ""
             }
            },
            "type": "scatterpolar"
           }
          ],
          "scatterpolargl": [
           {
            "marker": {
             "colorbar": {
              "outlinewidth": 0,
              "ticks": ""
             }
            },
            "type": "scatterpolargl"
           }
          ],
          "scatterternary": [
           {
            "marker": {
             "colorbar": {
              "outlinewidth": 0,
              "ticks": ""
             }
            },
            "type": "scatterternary"
           }
          ],
          "surface": [
           {
            "colorbar": {
             "outlinewidth": 0,
             "ticks": ""
            },
            "colorscale": [
             [
              0,
              "#0d0887"
             ],
             [
              0.1111111111111111,
              "#46039f"
             ],
             [
              0.2222222222222222,
              "#7201a8"
             ],
             [
              0.3333333333333333,
              "#9c179e"
             ],
             [
              0.4444444444444444,
              "#bd3786"
             ],
             [
              0.5555555555555556,
              "#d8576b"
             ],
             [
              0.6666666666666666,
              "#ed7953"
             ],
             [
              0.7777777777777778,
              "#fb9f3a"
             ],
             [
              0.8888888888888888,
              "#fdca26"
             ],
             [
              1,
              "#f0f921"
             ]
            ],
            "type": "surface"
           }
          ],
          "table": [
           {
            "cells": {
             "fill": {
              "color": "#EBF0F8"
             },
             "line": {
              "color": "white"
             }
            },
            "header": {
             "fill": {
              "color": "#C8D4E3"
             },
             "line": {
              "color": "white"
             }
            },
            "type": "table"
           }
          ]
         },
         "layout": {
          "annotationdefaults": {
           "arrowcolor": "#2a3f5f",
           "arrowhead": 0,
           "arrowwidth": 1
          },
          "autotypenumbers": "strict",
          "coloraxis": {
           "colorbar": {
            "outlinewidth": 0,
            "ticks": ""
           }
          },
          "colorscale": {
           "diverging": [
            [
             0,
             "#8e0152"
            ],
            [
             0.1,
             "#c51b7d"
            ],
            [
             0.2,
             "#de77ae"
            ],
            [
             0.3,
             "#f1b6da"
            ],
            [
             0.4,
             "#fde0ef"
            ],
            [
             0.5,
             "#f7f7f7"
            ],
            [
             0.6,
             "#e6f5d0"
            ],
            [
             0.7,
             "#b8e186"
            ],
            [
             0.8,
             "#7fbc41"
            ],
            [
             0.9,
             "#4d9221"
            ],
            [
             1,
             "#276419"
            ]
           ],
           "sequential": [
            [
             0,
             "#0d0887"
            ],
            [
             0.1111111111111111,
             "#46039f"
            ],
            [
             0.2222222222222222,
             "#7201a8"
            ],
            [
             0.3333333333333333,
             "#9c179e"
            ],
            [
             0.4444444444444444,
             "#bd3786"
            ],
            [
             0.5555555555555556,
             "#d8576b"
            ],
            [
             0.6666666666666666,
             "#ed7953"
            ],
            [
             0.7777777777777778,
             "#fb9f3a"
            ],
            [
             0.8888888888888888,
             "#fdca26"
            ],
            [
             1,
             "#f0f921"
            ]
           ],
           "sequentialminus": [
            [
             0,
             "#0d0887"
            ],
            [
             0.1111111111111111,
             "#46039f"
            ],
            [
             0.2222222222222222,
             "#7201a8"
            ],
            [
             0.3333333333333333,
             "#9c179e"
            ],
            [
             0.4444444444444444,
             "#bd3786"
            ],
            [
             0.5555555555555556,
             "#d8576b"
            ],
            [
             0.6666666666666666,
             "#ed7953"
            ],
            [
             0.7777777777777778,
             "#fb9f3a"
            ],
            [
             0.8888888888888888,
             "#fdca26"
            ],
            [
             1,
             "#f0f921"
            ]
           ]
          },
          "colorway": [
           "#636efa",
           "#EF553B",
           "#00cc96",
           "#ab63fa",
           "#FFA15A",
           "#19d3f3",
           "#FF6692",
           "#B6E880",
           "#FF97FF",
           "#FECB52"
          ],
          "font": {
           "color": "#2a3f5f"
          },
          "geo": {
           "bgcolor": "white",
           "lakecolor": "white",
           "landcolor": "#E5ECF6",
           "showlakes": true,
           "showland": true,
           "subunitcolor": "white"
          },
          "hoverlabel": {
           "align": "left"
          },
          "hovermode": "closest",
          "mapbox": {
           "style": "light"
          },
          "paper_bgcolor": "white",
          "plot_bgcolor": "#E5ECF6",
          "polar": {
           "angularaxis": {
            "gridcolor": "white",
            "linecolor": "white",
            "ticks": ""
           },
           "bgcolor": "#E5ECF6",
           "radialaxis": {
            "gridcolor": "white",
            "linecolor": "white",
            "ticks": ""
           }
          },
          "scene": {
           "xaxis": {
            "backgroundcolor": "#E5ECF6",
            "gridcolor": "white",
            "gridwidth": 2,
            "linecolor": "white",
            "showbackground": true,
            "ticks": "",
            "zerolinecolor": "white"
           },
           "yaxis": {
            "backgroundcolor": "#E5ECF6",
            "gridcolor": "white",
            "gridwidth": 2,
            "linecolor": "white",
            "showbackground": true,
            "ticks": "",
            "zerolinecolor": "white"
           },
           "zaxis": {
            "backgroundcolor": "#E5ECF6",
            "gridcolor": "white",
            "gridwidth": 2,
            "linecolor": "white",
            "showbackground": true,
            "ticks": "",
            "zerolinecolor": "white"
           }
          },
          "shapedefaults": {
           "line": {
            "color": "#2a3f5f"
           }
          },
          "ternary": {
           "aaxis": {
            "gridcolor": "white",
            "linecolor": "white",
            "ticks": ""
           },
           "baxis": {
            "gridcolor": "white",
            "linecolor": "white",
            "ticks": ""
           },
           "bgcolor": "#E5ECF6",
           "caxis": {
            "gridcolor": "white",
            "linecolor": "white",
            "ticks": ""
           }
          },
          "title": {
           "x": 0.05
          },
          "xaxis": {
           "automargin": true,
           "gridcolor": "white",
           "linecolor": "white",
           "ticks": "",
           "title": {
            "standoff": 15
           },
           "zerolinecolor": "white",
           "zerolinewidth": 2
          },
          "yaxis": {
           "automargin": true,
           "gridcolor": "white",
           "linecolor": "white",
           "ticks": "",
           "title": {
            "standoff": 15
           },
           "zerolinecolor": "white",
           "zerolinewidth": 2
          }
         }
        }
       }
      }
     },
     "metadata": {},
     "output_type": "display_data"
    }
   ],
   "source": [
    "import plotly.graph_objects as go\n",
    "\n",
    "df = pd.read_csv('results\\Sankey.csv')\n",
    "\n",
    "\n",
    "labels = list(set(df['From']).union(set(df['To'])))\n",
    "source = [labels.index(x) for x in df['From']]\n",
    "target = [labels.index(x) for x in df['To']]\n",
    "value = df['Value'].tolist()\n",
    "\n",
    "\n",
    "fig = go.Figure(data=[go.Sankey(\n",
    "    node=dict(\n",
    "        pad=15,\n",
    "        thickness=20,\n",
    "        line=dict(color=\"black\", width=0.5),\n",
    "        label=labels\n",
    "    ),\n",
    "    link=dict(\n",
    "        source=source,\n",
    "        target=target,\n",
    "        value=value\n",
    "    )\n",
    ")])\n",
    "\n",
    "\n",
    "fig.show()"
   ]
  },
  {
   "cell_type": "code",
   "execution_count": null,
   "metadata": {},
   "outputs": [],
   "source": []
  }
 ],
 "metadata": {
  "kernelspec": {
   "display_name": ".venv",
   "language": "python",
   "name": "python3"
  },
  "language_info": {
   "codemirror_mode": {
    "name": "ipython",
    "version": 3
   },
   "file_extension": ".py",
   "mimetype": "text/x-python",
   "name": "python",
   "nbconvert_exporter": "python",
   "pygments_lexer": "ipython3",
   "version": "3.11.0"
  }
 },
 "nbformat": 4,
 "nbformat_minor": 2
}
