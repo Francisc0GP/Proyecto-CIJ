{
 "cells": [
  {
   "cell_type": "code",
   "execution_count": 3,
   "metadata": {},
   "outputs": [],
   "source": [
    "import pandas as pd\n",
    "import warnings\n",
    "import re"
   ]
  },
  {
   "cell_type": "code",
   "execution_count": 12,
   "metadata": {},
   "outputs": [
    {
     "name": "stderr",
     "output_type": "stream",
     "text": [
      "C:\\Users\\lonje\\AppData\\Local\\Temp\\ipykernel_11992\\3777094381.py:3: DtypeWarning: Columns (8,239,249,260,270,281,291,301,311,321,331,341,351,361,371,381,398,408,418,428) have mixed types. Specify dtype option on import or set low_memory=False.\n",
      "  data = pd.read_csv('results/EntrevistaInicial.csv')\n"
     ]
    }
   ],
   "source": [
    "def read_data():\n",
    "    # Read the data\n",
    "    data = pd.read_csv('results/EntrevistaInicial.csv')\n",
    "    return data\n",
    "\n",
    "def group_sust():\n",
    "    \"\"\"\n",
    "    Description: Create a dictionary with the substances\n",
    "    return: dict_sust_inverso (dictionary)\n",
    "    \"\"\"\n",
    "    \n",
    "    dict_sust = {'Tabaco':(1,2) , 'Alcohol':(3,4,5,84), 'Marihuana':(6,7,8,9,10,11,),'Inalables':(24,25,26,27,28) , 'Cocaina':(12,13,14,15,86) , 'Metanfetaminas': (16,17,18,19,85) , 'OtrosEstimulantes':(19,20,21,22,23), 'Extasis':(22,50,51,48), 'Benzodiacepinas': (52,53) , 'OtrosDepresores': (54,55,56), 'Alucinogenos': (29,30,31,32,33,34,35,36,37,38,39,40,41,42,43,44,45,46,47), 'Heroina': (60,61), 'OpiodesSinteticos': (62,63,64,65,66,67), 'OpioDerivados': (57,58,59), 'UtilidadMedica': (68,69,70,71,72,73,74,75), 'SustanciasDeAbuso': (76,77,78,79,80,81,82), 'Otros': (83,10000)}\n",
    "    dict_sust_inverso = {}\n",
    "    for sustancia, numeros in dict_sust.items():\n",
    "        for numero in numeros:\n",
    "            dict_sust_inverso[numero] = sustancia\n",
    "    return dict_sust_inverso\n",
    "\n",
    "def modSustancias(df):\n",
    "    \"\"\"\n",
    "    Description: Modify the substances in the dataframe\n",
    "    Arguments: df (dataframe)\n",
    "    \"\"\"\n",
    "\n",
    "    dict_sust_inverso = group_sust()\n",
    "    for col in df.columns:\n",
    "        if col.startswith('Sustancia'):\n",
    "            df[col] = df[col].map(dict_sust_inverso)\n",
    "    return df\n",
    "\n",
    "def modEdades(df):\n",
    "    for col in df.columns:\n",
    "        if col.startswith('EdadInicio'):\n",
    "            df[col] = df[col].fillna(1000)\n",
    "\n",
    "def orden(row):\n",
    "    Edades =[row['EdadInicio'],row['EdadInicio1'],row['EdadInicio2'],row['EdadInicio3'],row['EdadInicio4'],row['EdadInicio5'], row['EdadInicio6'],row['EdadInicio7'],row['EdadInicio8'],row['EdadInicio9'],row['EdadInicio10'],row['EdadInicio11'],row['EdadInicio12'],row['EdadInicio13'],row['EdadInicio14'],row['EdadInicio15'],row['EdadInicio16'],row['EdadInicio17'],row['EdadInicio18'],row['EdadInicio19'],row['EdadInicio20'],row['EdadInicio21'],row['EdadInicio22'],row['EdadInicio23'],row['EdadInicio24'],row['EdadInicio25'],row['EdadInicio26'],row['EdadInicio27'],row['EdadInicio28'],row['EdadInicio29'],row['EdadInicio30'],row['EdadInicio31'],row['EdadInicio32'],row['EdadInicio33'] ]\n",
    "    indices_valores = [(i, e) for i, e in enumerate(Edades)]\n",
    "    valores_no_nulos = [(i, e) for i, e in indices_valores if e is not None]\n",
    "    valores_no_nulos_ordenados = sorted(valores_no_nulos, key=lambda x: x[1])\n",
    "    orden = [0] * len(Edades)\n",
    "    for orden_idx, (original_idx, _) in enumerate(valores_no_nulos_ordenados):\n",
    "        orden[original_idx] = orden_idx + 1\n",
    "    return orden\n",
    "\n",
    "def gen_data (df):\n",
    "    df = modSustancias(df)\n",
    "    df = modEdades(df)\n",
    "\n",
    "df = read_data()\n",
    "df = modSustancias(df)\n",
    "df = modEdades(df)"
   ]
  },
  {
   "cell_type": "code",
   "execution_count": 11,
   "metadata": {},
   "outputs": [
    {
     "data": {
      "text/plain": [
       "SustanciaId\n",
       "Tabaco               53942\n",
       "Alcohol              19770\n",
       "Otros                12829\n",
       "Marihuana             4573\n",
       "Metanfetaminas        1026\n",
       "Cocaina                516\n",
       "Benzodiacepinas        257\n",
       "Inalables              174\n",
       "SustanciasDeAbuso      114\n",
       "UtilidadMedica         100\n",
       "Heroina                 64\n",
       "OtrosDepresores         64\n",
       "OtrosEstimulantes       52\n",
       "OpiodesSinteticos       27\n",
       "Alucinogenos            18\n",
       "Extasis                  8\n",
       "OpioDerivados            6\n",
       "Name: count, dtype: int64"
      ]
     },
     "execution_count": 11,
     "metadata": {},
     "output_type": "execute_result"
    }
   ],
   "source": [
    "df['SustanciaId'].value_counts()"
   ]
  }
 ],
 "metadata": {
  "kernelspec": {
   "display_name": ".venv",
   "language": "python",
   "name": "python3"
  },
  "language_info": {
   "codemirror_mode": {
    "name": "ipython",
    "version": 3
   },
   "file_extension": ".py",
   "mimetype": "text/x-python",
   "name": "python",
   "nbconvert_exporter": "python",
   "pygments_lexer": "ipython3",
   "version": "3.11.0"
  }
 },
 "nbformat": 4,
 "nbformat_minor": 2
}
