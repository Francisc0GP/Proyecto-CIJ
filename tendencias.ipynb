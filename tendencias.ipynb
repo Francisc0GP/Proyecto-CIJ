{
 "cells": [
  {
   "cell_type": "code",
   "execution_count": 125,
   "metadata": {},
   "outputs": [],
   "source": [
    "import pandas as pd\n",
    "import warnings \n",
    "import unidecode \n",
    "import re"
   ]
  },
  {
   "cell_type": "code",
   "execution_count": 126,
   "metadata": {},
   "outputs": [],
   "source": [
    "def read_data():\n",
    "    '''\n",
    "    Description:\n",
    "    Read the data from the files and return the dataframes\n",
    "    return: df, dfcc, dfc (dataframes) \n",
    "    '''\n",
    "    df = pd.read_csv('results/EntrevistaInicial.csv')\n",
    "    return df"
   ]
  },
  {
   "cell_type": "code",
   "execution_count": 127,
   "metadata": {},
   "outputs": [],
   "source": [
    "def get_dict ():\n",
    "    '''\n",
    "    Description: Return a dictionary with the states\n",
    "    return: dict_Estados (dictionary)\n",
    "    '''\n",
    "\n",
    "    dict_Mes ={1: 'Enero', 2: 'Febrero', 3: 'Marzo', 4: 'Abril', 5: 'Mayo', 6: 'Junio', 7: 'Julio', 8: 'Agosto', 9: 'Septiembre', 10: 'Octubre', 11: 'Noviembre', 12: 'Diciembre'}\n",
    "    \n",
    "    return dict_Mes"
   ]
  },
  {
   "cell_type": "code",
   "execution_count": 128,
   "metadata": {},
   "outputs": [],
   "source": [
    "def transform_data(df):\n",
    "    '''\n",
    "    Description: Transform the data from the dataframe\n",
    "    return: df (dataframe)\n",
    "    '''\n",
    "    \n",
    "    dict_Mes = get_dict()\n",
    "    df['MesRegistro'] = df['MesRegistro'].map(dict_Mes)\n",
    "    return df"
   ]
  },
  {
   "cell_type": "code",
   "execution_count": 129,
   "metadata": {},
   "outputs": [],
   "source": [
    "def split_date(df):\n",
    "    '''\n",
    "    Description: Split the date in year, month and day\n",
    "    return: df (dataframe)\n",
    "    '''\n",
    "    \n",
    "    df['FechaRegistro'] = pd.to_datetime(df['FechaRegistro'])\n",
    "    df['AñoRegistro'] = df['FechaRegistro'].dt.year\n",
    "    df['MesRegistro'] = df['FechaRegistro'].dt.month\n",
    "    df['DiaRegistro'] = df['FechaRegistro'].dt.day\n",
    "    df = transform_data(df)\n",
    "    return df"
   ]
  },
  {
   "cell_type": "code",
   "execution_count": 130,
   "metadata": {},
   "outputs": [],
   "source": [
    "def sem(df , lis_1sem, lis_2sem):\n",
    "    '''\n",
    "    Description: Create a column with the semester\n",
    "    return: df (dataframe)\n",
    "    '''\n",
    "    \n",
    "    df['Semestre'] = 0\n",
    "    for ind, val in df['MesRegistro'].items():\n",
    "        if val in lis_1sem:\n",
    "            df.loc[ind, 'Semestre'] = 1\n",
    "        elif val in lis_2sem:\n",
    "            df.loc[ind, 'Semestre'] = 2\n",
    "    return df"
   ]
  },
  {
   "cell_type": "code",
   "execution_count": 131,
   "metadata": {},
   "outputs": [],
   "source": [
    "def group_sust():\n",
    "    '''\n",
    "    Description: Create a dictionary with the substances\n",
    "    return: dict_sust_inverso (dictionary)\n",
    "    '''\n",
    "    \n",
    "    dict_sust = {'Tabaco':(1,2) , 'Alcohol':(3,4,5,84), 'Marihuana':(6,7,8,9,10,11,),'Inalables':(24,25,26,27,28) , 'Cocaina':(12,13,14,15,86) , 'Metanfetaminas': (16,17,18,19,85) , 'OtrosEstimulantes':(19,20,21,22,23), 'Extasis':(22,50,51,48), 'Benzodiacepinas': (52,53) , 'OtrosDepresores': (54,55,56), 'Alucinogenos': (29,30,31,32,33,34,35,36,37,38,39,40,41,42,43,44,45,46,47), 'Heroina': (60,61), 'OpiodesSinteticos': (62,63,64,65,66,67), 'OpioDerivados': (57,58,59), 'UtilidadMedica': (68,69,70,71,72,73,74,75), 'SustanciasDeAbuso': (76,77,78,79,80,81,82), 'Otros': (83,10000)}\n",
    "    dict_sust_inverso = {}\n",
    "    for sustancia, numeros in dict_sust.items():\n",
    "        for numero in numeros:\n",
    "            dict_sust_inverso[numero] = sustancia\n",
    "    return dict_sust_inverso"
   ]
  },
  {
   "cell_type": "code",
   "execution_count": 132,
   "metadata": {},
   "outputs": [],
   "source": [
    "def mod_sust (df):\n",
    "    '''\n",
    "    Description: Modify the columns MayorImpactoSustanciaId\n",
    "    return: df (dataframe)\n",
    "    '''\n",
    "    \n",
    "    dict_sust = group_sust()\n",
    "    for col in df.columns:\n",
    "        if col.startswith('MayorImpactoSustanciaId'):\n",
    "            df[col] = df[col].map(dict_sust)\n",
    "    for col in df.columns:\n",
    "        if col.startswith('SustanciaI'):\n",
    "            df[col] = df[col].map(dict_sust)\n",
    "    return df"
   ]
  },
  {
   "cell_type": "code",
   "execution_count": 133,
   "metadata": {},
   "outputs": [],
   "source": [
    "def mod_data(df):\n",
    "    '''\n",
    "    Description: Modify the data from the dataframe\n",
    "    return: df (dataframe)\n",
    "    '''\n",
    "    \n",
    "    df = split_date(df)\n",
    "    lista_1sem = ['Enero', 'Febrero', 'Marzo', 'Abril', 'Mayo', 'Junio']\n",
    "    lista_2sem = ['Julio', 'Agosto', 'Septiembre', 'Octubre', 'Noviembre', 'Diciembre']\n",
    "    df = sem(df, lista_1sem, lista_2sem)\n",
    "    df = mod_sust(df)\n",
    "    df['Edad'] = df['Edad'].astype(str)\n",
    "    df['Edad'] = df['Edad'].apply(unidecode.unidecode)\n",
    "    df['Edad'] = df['Edad'].str.replace('+' , '' )\n",
    "    df['Edad'] = df['Edad'].str.replace('*' , '')\n",
    "    df['Edad'] = df['Edad'].str.replace('.0' , '')\n",
    "    df['Edad'] = df['Edad'].replace('', '0')\n",
    "    df['Edad'] = df['Edad'].astype(float)\n",
    "\n",
    "    return df"
   ]
  },
  {
   "cell_type": "code",
   "execution_count": 134,
   "metadata": {},
   "outputs": [],
   "source": [
    "def range_age(df):\n",
    "    '''\n",
    "    Description: Create a column with the age range\n",
    "    return: df (dataframe)\n",
    "    '''\n",
    "    \n",
    "    df['Edad'] = pd.cut(df['Edad'], bins=[0, 11, 20, 30, 40, 50, 60, 150], labels=['0-10', '11-20', '21-30', '31-40', '41-50', '51-60', '65+'])\n",
    "    return df"
   ]
  },
  {
   "cell_type": "code",
   "execution_count": 135,
   "metadata": {},
   "outputs": [],
   "source": [
    "def gen_valueof_column():\n",
    "    '''\n",
    "    Description: Create a dictionary\n",
    "    return: value_to_column (dictionary)\n",
    "    '''\n",
    "    value_to_column = {\n",
    "        'Tabaco': 'Tabaco',\n",
    "        'Alcohol': 'Alcohol',\n",
    "        'Marihuana': 'Marihuana',\n",
    "        'Inalables': 'Inalables',\n",
    "        'Cocaina': 'Cocaina',\n",
    "        'Metanfetaminas': 'Metanfetaminas',\n",
    "        'OtrosEstimulantes': 'OtrosEstimulantes',\n",
    "        'Extasis': 'Extasis',\n",
    "        'Benzodiacepinas': 'Benzodiacepinas',\n",
    "        'OtrosDepresores': 'OtrosDepresores',\n",
    "        'Alucinogenos': 'Alucinogenos',\n",
    "        'Heroina': 'Heroina',\n",
    "        'OpiodesSinteticos': 'OpiodesSinteticos',\n",
    "        'OpioDerivados': 'OpioDerivados',\n",
    "        'UtilidadMedica': 'UtilidadMedica',\n",
    "        'SustanciasDeAbuso': 'SustanciasDeAbuso',\n",
    "        'Otros': 'Otros'\n",
    "    }\n",
    "    return value_to_column"
   ]
  },
  {
   "cell_type": "code",
   "execution_count": 136,
   "metadata": {},
   "outputs": [],
   "source": [
    "def tendencias_MI(df):\n",
    "    df_result = pd.DataFrame(columns = ['Semestre', 'Año' , 'Unidad' , 'Sexo' , 'Categoria', 'Tabaco' , 'Alcohol', 'Marihuana','Inalables', 'Cocaina' , 'Metanfetaminas', 'OtrosEstimulantes', 'Extasis', 'Benzodiacepinas', 'OtrosDepresores', 'Alucinogenos', 'Heroina', 'OpiodesSinteticos', 'OpioDerivados', 'UtilidadMedica', 'SustanciasDeAbuso', 'Otros'])\n",
    "    if df_result.empty:\n",
    "        df_result.loc[0] = 0    \n",
    "    for col in df.columns:\n",
    "        if col.startswith('MayorImpactoSustanciaId'):\n",
    "            value_to_column = gen_valueof_column()\n",
    "            for ind, val in df[col].items():\n",
    "                if val in value_to_column:\n",
    "                    df_result.loc[0, value_to_column[val]] += 1\n",
    "    df_result['Semestre'][0] = df['Semestre'].iloc[0]\n",
    "    df_result['Año'][0] = df['AñoRegistro'].iloc[0]\n",
    "    df_result['Unidad'][0] = 'Total'\n",
    "    df_result['Categoria'][0] = 'Droga impacto'\n",
    "    df_result['Sexo'][0] = df['SexoId'].iloc[0]\n",
    "    return df_result"
   ]
  },
  {
   "cell_type": "code",
   "execution_count": 137,
   "metadata": {},
   "outputs": [],
   "source": [
    "def group_data(df):\n",
    "    '''     \n",
    "    Description: Group the data by semester\n",
    "    return: df_result (dataframe)\n",
    "    '''\n",
    "    \n",
    "    df_result = pd.DataFrame()\n",
    "    for val , group in df.groupby(['Semestre', 'AñoRegistro', 'SexoId']):\n",
    "        df_result = pd.concat([df_result, tendencias_MI(group)])\n",
    "    return df_result"
   ]
  },
  {
   "cell_type": "code",
   "execution_count": 138,
   "metadata": {},
   "outputs": [],
   "source": [
    "def tendencias_UM(df):\n",
    "    df_result = pd.DataFrame(columns = ['Semestre', 'Año' , 'Unidad' , 'Sexo' , 'Categoria', 'Tabaco' , 'Alcohol', 'Marihuana','Inalables', 'Cocaina' , 'Metanfetaminas', 'OtrosEstimulantes', 'Extasis', 'Benzodiacepinas', 'OtrosDepresores', 'Alucinogenos', 'Heroina', 'OpiodesSinteticos', 'OpioDerivados', 'UtilidadMedica', 'SustanciasDeAbuso', 'Otros'])\n",
    "    if df_result.empty:\n",
    "        df_result.loc[0] = 0    \n",
    "    value_to_column = gen_valueof_column()\n",
    "    for col in df.columns:\n",
    "        if col.startswith('SustanciaI'):\n",
    "            exp = re.search(r'SustanciaId(\\d+)', col)\n",
    "            if exp:\n",
    "                if df['ComunAbstinenciaId'+str(exp.group(1))].iloc[0] in range (1,4):\n",
    "                    for ind, val in df[col].items():\n",
    "                        if val in value_to_column:\n",
    "                            df_result.loc[0, value_to_column[val]] += 1\n",
    "    df_result['Semestre'][0] = df['Semestre'].iloc[0]\n",
    "    df_result['Año'][0] = df['AñoRegistro'].iloc[0]\n",
    "    df_result['Unidad'][0] = 'Total'\n",
    "    df_result['Categoria'][0] = 'Droga Ultimo Mes'\n",
    "    df_result['Sexo'][0] = df['SexoId'].iloc[0]\n",
    "    return df_result"
   ]
  },
  {
   "cell_type": "code",
   "execution_count": 139,
   "metadata": {},
   "outputs": [],
   "source": [
    "def group_dataUM(df):\n",
    "    '''     \n",
    "    Description: Group the data by semester\n",
    "    return: df_result (dataframe)\n",
    "    '''\n",
    "    \n",
    "    df_result = pd.DataFrame()\n",
    "    for val , group in df.groupby(['Semestre', 'AñoRegistro', 'SexoId']):\n",
    "        df_result = pd.concat([df_result, tendencias_UM(group)])\n",
    "    return df_result"
   ]
  },
  {
   "cell_type": "code",
   "execution_count": 140,
   "metadata": {},
   "outputs": [],
   "source": [
    "def create_csv(df, df2):\n",
    "    df_final = pd.concat([df, df2], ignore_index=True)\n",
    "    df_final.to_csv('results/tendencias.csv', index=False, encoding='utf-8')"
   ]
  },
  {
   "cell_type": "code",
   "execution_count": 141,
   "metadata": {},
   "outputs": [],
   "source": [
    "def main ():\n",
    "    '''\n",
    "    Description: Main function\n",
    "    '''\n",
    "    df = read_data()\n",
    "    df = mod_data(df)\n",
    "    df = range_age(df)\n",
    "    df1 = group_data(df)\n",
    "    df2 = group_dataUM(df)\n",
    "    create_csv(df1, df2)\n",
    "\n"
   ]
  },
  {
   "cell_type": "code",
   "execution_count": 142,
   "metadata": {},
   "outputs": [],
   "source": [
    "warnings.filterwarnings(\"ignore\") \n",
    "main()"
   ]
  },
  {
   "cell_type": "code",
   "execution_count": null,
   "metadata": {},
   "outputs": [],
   "source": []
  },
  {
   "cell_type": "code",
   "execution_count": null,
   "metadata": {},
   "outputs": [],
   "source": []
  }
 ],
 "metadata": {
  "kernelspec": {
   "display_name": ".venv",
   "language": "python",
   "name": "python3"
  },
  "language_info": {
   "codemirror_mode": {
    "name": "ipython",
    "version": 3
   },
   "file_extension": ".py",
   "mimetype": "text/x-python",
   "name": "python",
   "nbconvert_exporter": "python",
   "pygments_lexer": "ipython3",
   "version": "3.11.0"
  }
 },
 "nbformat": 4,
 "nbformat_minor": 2
}
